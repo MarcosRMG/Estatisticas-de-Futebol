{
 "cells": [
  {
   "cell_type": "markdown",
   "metadata": {
    "colab_type": "text",
    "id": "view-in-github"
   },
   "source": [
    "<a href=\"https://colab.research.google.com/github/MarcosRMG/Estatisticas-de-Futebol/blob/main/Estatisticas_do_Futebol.ipynb\" target=\"_parent\"><img src=\"https://colab.research.google.com/assets/colab-badge.svg\" alt=\"Open In Colab\"/></a>"
   ]
  },
  {
   "cell_type": "markdown",
   "metadata": {
    "id": "UFz9SEeadkfD"
   },
   "source": [
    "# 1 Bibliotecas"
   ]
  },
  {
   "cell_type": "code",
   "execution_count": 5,
   "metadata": {
    "id": "X9sfyaS8doVM"
   },
   "outputs": [
    {
     "ename": "ModuleNotFoundError",
     "evalue": "No module named 'pandas'",
     "output_type": "error",
     "traceback": [
      "\u001b[0;31m---------------------------------------------------------------------------\u001b[0m",
      "\u001b[0;31mModuleNotFoundError\u001b[0m                       Traceback (most recent call last)",
      "\u001b[0;32m<ipython-input-5-d586ca7624fb>\u001b[0m in \u001b[0;36m<module>\u001b[0;34m\u001b[0m\n\u001b[1;32m      1\u001b[0m \u001b[0;31m# Leitura e tratamento dos dados\u001b[0m\u001b[0;34m\u001b[0m\u001b[0;34m\u001b[0m\u001b[0;34m\u001b[0m\u001b[0m\n\u001b[0;32m----> 2\u001b[0;31m \u001b[0;32mimport\u001b[0m \u001b[0mpandas\u001b[0m \u001b[0;32mas\u001b[0m \u001b[0mpd\u001b[0m\u001b[0;34m\u001b[0m\u001b[0;34m\u001b[0m\u001b[0m\n\u001b[0m\u001b[1;32m      3\u001b[0m \u001b[0;32mimport\u001b[0m \u001b[0mrequests\u001b[0m\u001b[0;34m\u001b[0m\u001b[0;34m\u001b[0m\u001b[0m\n\u001b[1;32m      4\u001b[0m \u001b[0;32mfrom\u001b[0m \u001b[0murllib\u001b[0m\u001b[0;34m.\u001b[0m\u001b[0mrequest\u001b[0m \u001b[0;32mimport\u001b[0m \u001b[0murlopen\u001b[0m\u001b[0;34m\u001b[0m\u001b[0;34m\u001b[0m\u001b[0m\n\u001b[1;32m      5\u001b[0m \u001b[0;32mfrom\u001b[0m \u001b[0mbs4\u001b[0m \u001b[0;32mimport\u001b[0m \u001b[0mBeautifulSoup\u001b[0m\u001b[0;34m\u001b[0m\u001b[0;34m\u001b[0m\u001b[0m\n",
      "\u001b[0;31mModuleNotFoundError\u001b[0m: No module named 'pandas'"
     ]
    }
   ],
   "source": [
    "# Leitura e tratamento dos dados\n",
    "import pandas as pd\n",
    "import requests\n",
    "from urllib.request import urlopen\n",
    "from bs4 import BeautifulSoup\n",
    "import numpy as np\n",
    "\n",
    "# Autocorrelação\n",
    "from statsmodels.graphics.tsaplots import plot_acf\n",
    "\n",
    "# Visualização de dados\n",
    "import matplotlib.pyplot as plt\n",
    "import seaborn as sns\n",
    "import matplotlib"
   ]
  },
  {
   "cell_type": "code",
   "execution_count": null,
   "metadata": {
    "id": "wRpKrbwhThvD"
   },
   "outputs": [],
   "source": [
    "# Personaliza visualizações\n",
    "matplotlib.rcParams['font.size'] = 12\n",
    "sns.set_style(style='darkgrid')"
   ]
  },
  {
   "cell_type": "markdown",
   "metadata": {
    "id": "kVcCy47lLsQZ"
   },
   "source": [
    "# 2 Variáveis"
   ]
  },
  {
   "cell_type": "code",
   "execution_count": null,
   "metadata": {
    "id": "879zVKcTLzlT"
   },
   "outputs": [],
   "source": [
    "colunas_2 = {\n",
    "    'Data': 'data', \n",
    "    'Horário': 'horario', \n",
    "    'Rodada': 'rodada', \n",
    "    'Dia': 'dia', \n",
    "    'Local': 'local', \n",
    "    'Resultado': 'resultado', \n",
    "    'GP': 'gols_marcados', \n",
    "    'GC': 'gols_sofridos',\n",
    "    'Oponente': 'oponente', \n",
    "    'xG': 'xg', \n",
    "    'xGA': 'xga', \n",
    "    'Posse': 'posse', \n",
    "    'Público': 'publico', \n",
    "    'Capitão': 'capitao', \n",
    "    'Formação': 'formacao',\n",
    "    'Árbitro': 'arbitro', \n",
    "    'Relatório da Partida': 'relatorio_partida', \n",
    "    'Notas': 'notas'\n",
    "}"
   ]
  },
  {
   "cell_type": "code",
   "execution_count": null,
   "metadata": {
    "id": "3JrGYh5qL6Gh"
   },
   "outputs": [],
   "source": [
    "colunas = {\n",
    "    'Cl': 'posicao',\n",
    "    'Equipe': 'equipe',\n",
    "    'MP': 'jogos',\t\n",
    "    'V': 'vitorias',\t\n",
    "    'E': 'empates',\t\n",
    "    'D': 'derrotas',\t\n",
    "    'GP': 'gols_marcados',\t\n",
    "    'GC': 'gols_sofridos',\t\n",
    "    'GD': 'saldo_gols',\t\n",
    "    'Pt': 'pontos',\t\n",
    "    'Últimos 5': 'ultimos_5'\n",
    "}"
   ]
  },
  {
   "cell_type": "markdown",
   "metadata": {
    "id": "b_9IY-sFUs8c"
   },
   "source": [
    "# 3 Funções"
   ]
  },
  {
   "cell_type": "markdown",
   "metadata": {
    "id": "MX-XMQNwVr44"
   },
   "source": [
    "## 3.1 Leitura e limpeza do html"
   ]
  },
  {
   "cell_type": "code",
   "execution_count": null,
   "metadata": {
    "id": "ZmMNcVG4UzGL"
   },
   "outputs": [],
   "source": [
    "def leitura_limpeza_html(url):\n",
    "  '''\n",
    "  Retira os espaços e o /n do documento html\n",
    "\n",
    "  Keywords arguments\n",
    "  url: Endereço url da página\n",
    "\n",
    "  return: Documento html tratado\n",
    "  '''\n",
    "  response = urlopen(url)\n",
    "  html = response.read().decode('UTF-8')\n",
    "  html_limpo = ' '.join(html.split()).replace('> <', '><')\n",
    "  html_soup = BeautifulSoup(html_limpo, 'html.parser')\n",
    "  return html_soup"
   ]
  },
  {
   "cell_type": "markdown",
   "metadata": {
    "id": "XS1KMwkMD889"
   },
   "source": [
    "## 3.2 Trata tabela de rodadas da liga"
   ]
  },
  {
   "cell_type": "code",
   "execution_count": null,
   "metadata": {
    "id": "vIDxA9f2D1tT"
   },
   "outputs": [],
   "source": [
    "def trata_tabela_rodadas_liga(html: str, dicionario_colunas=colunas_2, indice='rodada',\n",
    "                      colunas_desconsideradas=['notas', 'publico', \n",
    "                                               'relatorio_partida', 'arbitro',\n",
    "                                               'capitao', 'formacao', 'xga', 'xg',\n",
    "                                               'horario', 'dia', 'data']):\n",
    "  '''\n",
    "  Trata a tabela da liga para análise\n",
    "\n",
    "  Keywords arguments\n",
    "  html: Variável que guarda o endereço html\n",
    "  dicionario_colunas: Dicionário com a descrição da coluna padronizada\n",
    "  indice: Indice da tabela\n",
    "  colunas_desconsideradas: Lista de colunas que não serão analidas\n",
    "\n",
    "  return: Nota tabela com as informações para análise\n",
    "  '''\n",
    "  # Cria a DataFrame\n",
    "  rodadas = pd.read_html(html)[0]\n",
    "\n",
    "  # Renomeia as colunas\n",
    "  rodadas.rename(dicionario_colunas, axis=1, inplace=True)\n",
    "  \n",
    "  # Simplificando a informação de rodada\n",
    "  rodadas[indice] = rodadas[indice].str[-2:]\n",
    "  \n",
    "  # Alterando o tipo  de dado da coluna rodada\n",
    "  rodadas[indice] = rodadas[indice].astype('int32')\n",
    "  \n",
    "  # Definindo a coluna rodada como índice\n",
    "  rodadas.set_index(indice, inplace=True)\n",
    "\n",
    "  # Ordena pelo registro mais recente\n",
    "  rodadas.sort_index(ascending=False, inplace=True)\n",
    "  \n",
    "  # Exclusão das colunas desnecessárias e linhas com NaN\n",
    "  rodadas.drop(colunas_desconsideradas, axis=1, \n",
    "                              inplace=True)\n",
    "  rodadas.dropna(inplace=True)\n",
    "\n",
    "  return rodadas"
   ]
  },
  {
   "cell_type": "markdown",
   "metadata": {
    "id": "9fNMH5Q7HKD8"
   },
   "source": [
    "## 3.3 Trata tabela da liga"
   ]
  },
  {
   "cell_type": "code",
   "execution_count": 6,
   "metadata": {
    "id": "xW0yptUPHPXN"
   },
   "outputs": [
    {
     "ename": "NameError",
     "evalue": "name 'colunas' is not defined",
     "output_type": "error",
     "traceback": [
      "\u001b[0;31m---------------------------------------------------------------------------\u001b[0m",
      "\u001b[0;31mNameError\u001b[0m                                 Traceback (most recent call last)",
      "\u001b[0;32m<ipython-input-6-989b116e7712>\u001b[0m in \u001b[0;36m<module>\u001b[0;34m\u001b[0m\n\u001b[0;32m----> 1\u001b[0;31m def trata_tabela_liga(html: str, dicionario_colunas=colunas, \n\u001b[0m\u001b[1;32m      2\u001b[0m                       colunas_desconsideradas=['xG', 'xGA', 'xGD', 'xGD/90', \n\u001b[1;32m      3\u001b[0m                                                \u001b[0;34m'Público'\u001b[0m\u001b[0;34m,\u001b[0m \u001b[0;34m'Artilheiro da equipe'\u001b[0m\u001b[0;34m,\u001b[0m\u001b[0;34m\u001b[0m\u001b[0;34m\u001b[0m\u001b[0m\n\u001b[1;32m      4\u001b[0m                                                'Goleiro', 'Notas']):\n\u001b[1;32m      5\u001b[0m   '''\n",
      "\u001b[0;31mNameError\u001b[0m: name 'colunas' is not defined"
     ]
    }
   ],
   "source": [
    "def trata_tabela_liga(html: str, dicionario_colunas=colunas, \n",
    "                      colunas_desconsideradas=['xG', 'xGA', 'xGD', 'xGD/90', \n",
    "                                               'Público', 'Artilheiro da equipe', \n",
    "                                               'Goleiro', 'Notas']):\n",
    "  '''\n",
    "  Leitura e limpeza da tabela da liga\n",
    "\n",
    "  Keywords arguments\n",
    "  html: Html contendo as informações da tabela\n",
    "  dicionario_colunas: Dicionário com a descrição da coluna padronizada\n",
    "  colunas_desconsideradas: Lista de colunas que não serão analidas\n",
    "\n",
    "  return: Nota tabela com as informações para análise\n",
    "  '''\n",
    "  tabela = pd.read_html(html)[0]\n",
    "  tabela.rename(dicionario_colunas, axis=1, inplace=True)\n",
    "  tabela.drop(colunas_desconsideradas, axis=1, inplace=True)\n",
    "  return tabela"
   ]
  },
  {
   "cell_type": "markdown",
   "metadata": {
    "id": "Xyfj4CnANQc-"
   },
   "source": [
    "## 3.4 Calcula medidas de tendência central"
   ]
  },
  {
   "cell_type": "code",
   "execution_count": null,
   "metadata": {
    "id": "invn5LQQNZQl"
   },
   "outputs": [],
   "source": [
    "def tendencia_central(dados: pd.DataFrame, time: str, numero_jogos=5, \n",
    "                      a_favor='gols_marcados', contra='gols_sofridos',\n",
    "                      descricao_a_favor='Gols Marcados', \n",
    "                      descricao_contra='Gols Sofridos'):\n",
    "  '''\n",
    "  Mostra uma tabela com as estatísticas de gols\n",
    "\n",
    "  Keywords argumensts\n",
    "  dados: DataFrame com as informações para análise\n",
    "  numero_jogos: Número de jogos anteriores a ser calculado, todo o histórico, \n",
    "  últimos 5, etc.\n",
    "  time: Equipe de futebol que está sendo analisada\n",
    "  a_favor: Coluna com as informações a favor do time\n",
    "  contra: Coluna com as informações contra o time\n",
    "  descricao_a_favor: Descrição da coluna com os número a favor do time\n",
    "  descricao_contra: Descrição da coluna com os número contra o time\n",
    "\n",
    "  return: Tabela com as estatísticas calculadas\n",
    "  '''\n",
    "  indice = f'''\n",
    "  {time} - Últimos {numero_jogos} jogos\n",
    "  '''\n",
    "  _ =  pd.DataFrame({\n",
    "      descricao_a_favor: [round(dados[a_favor][:numero_jogos].mean(), 1), \n",
    "                        round(dados[a_favor][:numero_jogos].median(), 1), \n",
    "                        round(dados[a_favor][:numero_jogos].mode()[0], 1),\n",
    "                        round(dados[a_favor][:numero_jogos].std(), 1)],\n",
    "      descricao_contra: [round(dados[contra][:numero_jogos].mean(), 1), \n",
    "                        round(dados[contra][:numero_jogos].median(), 1), \n",
    "                        round(dados[contra][:numero_jogos].mode()[0], 1),\n",
    "                        round(dados[contra][:numero_jogos].std(), 1)],\n",
    "      indice: ['Média', 'Mediana', 'Moda', 'Desvio Padrão']\n",
    "  })\n",
    "  _.set_index(indice, inplace=True)\n",
    "  return _\n"
   ]
  },
  {
   "cell_type": "markdown",
   "metadata": {
    "id": "PvkuItjQS86x"
   },
   "source": [
    "## 3.5 Personaliza gráfico"
   ]
  },
  {
   "cell_type": "code",
   "execution_count": null,
   "metadata": {
    "id": "M8iknpoVTGHS"
   },
   "outputs": [],
   "source": [
    "def personaliza_grafico(titulo: str, eixo_x: str, eixo_y: str):\n",
    "  plt.title(titulo, loc='left', fontsize=24, y=1.1)\n",
    "  plt.xlabel(eixo_x, fontsize=14)\n",
    "  plt.ylabel(eixo_y, fontsize=14);"
   ]
  },
  {
   "cell_type": "markdown",
   "metadata": {
    "id": "n3j36Ft1Zu4k"
   },
   "source": [
    "## 3.6 Altera o tipo de dado"
   ]
  },
  {
   "cell_type": "code",
   "execution_count": null,
   "metadata": {
    "id": "nCStpWCrZyhq"
   },
   "outputs": [],
   "source": [
    "def altera_tipo_dado(dados: pd.DataFrame, coluna: str, tipo_dado: str):\n",
    "  '''\n",
    "  Altera o tipo de dado da coluna\n",
    "\n",
    "  Keywords arguments\n",
    "  dados: DataFrame contendo as informações\n",
    "  coluna: Coluna do DataFrame para alteração do tipo de dado\n",
    "  tipo_dado: Novo tipo de dado\n",
    "\n",
    "  return: Coluna com o novo tipo de dado para atribuição ao DataFrame original\n",
    "  '''\n",
    "  return dados[coluna].astype(tipo_dado)"
   ]
  },
  {
   "cell_type": "markdown",
   "metadata": {
    "id": "t9nQJdJIai8S"
   },
   "source": [
    "## 3.7 Altera formato da informação nas linhas"
   ]
  },
  {
   "cell_type": "code",
   "execution_count": null,
   "metadata": {
    "id": "ByvilK9HamGN"
   },
   "outputs": [],
   "source": [
    "def altera_formato_informacao(dados: pd.DataFrame, coluna: str, \n",
    "                              dicionario_valores: dict()):\n",
    "  '''\n",
    "  Altera o tipo de dado da coluna\n",
    "\n",
    "  Keywords arguments\n",
    "  dados: DataFrame contendo as informações\n",
    "  coluna: Coluna do DataFrame para alteração do tipo de dado\n",
    "  dicionario_valores: Novos valores para as linhas\n",
    "\n",
    "  return: Coluna com o novo formato de informação para coluna\n",
    "  '''\n",
    "  return dados[coluna].rename(dicionario_valores)"
   ]
  },
  {
   "cell_type": "markdown",
   "metadata": {
    "id": "89osILfmeXLi"
   },
   "source": [
    "## 3.8 Binariza coluna"
   ]
  },
  {
   "cell_type": "code",
   "execution_count": null,
   "metadata": {
    "id": "RRVoKhjEefqe"
   },
   "outputs": [],
   "source": [
    "def binariza_coluna(dados: pd.DataFrame, colunas: list()):\n",
    "  '''\n",
    "  Realiza a binarização da coluna\n",
    "\n",
    "  Keywords arguments\n",
    "  dados: DataFrame com as informações para binarização\n",
    "  colunas: Lista de colunas a ser binarizada\n",
    "\n",
    "  return Dados binarizados para atribuição excluíndo se a coluna antiga\n",
    "  '''\n",
    "  dados = dados.join(pd.get_dummies(dados[colunas]))\n",
    "  dados.drop(colunas, axis=1, inplace=True)\n",
    "  dados.rename({'local_Visitante': 'visitante', 'local_Em casa': 'em_casa', \n",
    "                'resultado_E': 'empate', 'resultado_D': 'derrota', \n",
    "                'resultado_V': 'vitoria'}, axis=1, inplace=True)\n",
    "  return dados"
   ]
  },
  {
   "cell_type": "markdown",
   "metadata": {
    "id": "nUE-OjwRm5gm"
   },
   "source": [
    "## 3.9 Calcula medidas de tendência central 2"
   ]
  },
  {
   "cell_type": "code",
   "execution_count": null,
   "metadata": {
    "id": "GRGf1susm5gn"
   },
   "outputs": [],
   "source": [
    "def tendencia_central_2(dados: pd.DataFrame, time: str, numero_jogos=5, \n",
    "                      a_favor='gols_marcados', descricao_a_favor='Gols Marcados'):\n",
    "  '''\n",
    "  Mostra uma tabela com as estatísticas de gols\n",
    "\n",
    "  Keywords argumensts\n",
    "  dados: DataFrame com as informações para análise\n",
    "  numero_jogos: Número de jogos anteriores a ser calculado, todo o histórico, \n",
    "  últimos 5, etc.\n",
    "  time: Equipe de futebol que está sendo analisada\n",
    "  a_favor: Coluna com as informações a favor do time\n",
    "  descricao_a_favor: Descrição da coluna com os número a favor do time\n",
    "\n",
    "  return: Tabela com as estatísticas calculadas\n",
    "  '''\n",
    "  indice = f'''\n",
    "  {time} - Últimos {numero_jogos} jogos\n",
    "  '''\n",
    "  _ =  pd.DataFrame({\n",
    "      descricao_a_favor: [round(dados[a_favor][:numero_jogos].mean(), 1), \n",
    "                        round(dados[a_favor][:numero_jogos].median(), 1), \n",
    "                        round(dados[a_favor][:numero_jogos].mode()[0], 1),\n",
    "                        round(dados[a_favor][:numero_jogos].std(), 1)],\n",
    "      indice: ['Média', 'Mediana', 'Moda', 'Desvio Padrão']\n",
    "  })\n",
    "  _.set_index(indice, inplace=True)\n",
    "  return _\n"
   ]
  },
  {
   "cell_type": "markdown",
   "metadata": {
    "id": "9bWSM2fudGUt"
   },
   "source": [
    "# 4 Serie A Italiana 2020-2021"
   ]
  },
  {
   "cell_type": "markdown",
   "metadata": {
    "id": "NjvU4ImkdetX"
   },
   "source": [
    "## 4.1 Dados"
   ]
  },
  {
   "cell_type": "code",
   "execution_count": 4,
   "metadata": {
    "id": "E_R5-lF3c96C"
   },
   "outputs": [
    {
     "ename": "NameError",
     "evalue": "name 'trata_tabela_liga' is not defined",
     "output_type": "error",
     "traceback": [
      "\u001b[0;31m---------------------------------------------------------------------------\u001b[0m",
      "\u001b[0;31mNameError\u001b[0m                                 Traceback (most recent call last)",
      "\u001b[0;32m<ipython-input-4-77a931478e2b>\u001b[0m in \u001b[0;36m<module>\u001b[0;34m\u001b[0m\n\u001b[1;32m      1\u001b[0m \u001b[0;31m# Tabela da Liga Italiana\u001b[0m\u001b[0;34m\u001b[0m\u001b[0;34m\u001b[0m\u001b[0;34m\u001b[0m\u001b[0m\n\u001b[1;32m      2\u001b[0m \u001b[0mfonte_liga_italiana_serie_a\u001b[0m \u001b[0;34m=\u001b[0m \u001b[0;34m'https://fbref.com/pt/comps/11/Serie-A-Estatisticas#coverage'\u001b[0m\u001b[0;34m\u001b[0m\u001b[0;34m\u001b[0m\u001b[0m\n\u001b[0;32m----> 3\u001b[0;31m \u001b[0mtabela_liga_italiana_20_21\u001b[0m \u001b[0;34m=\u001b[0m \u001b[0mtrata_tabela_liga\u001b[0m\u001b[0;34m(\u001b[0m\u001b[0mfonte_liga_italiana_serie_a\u001b[0m\u001b[0;34m)\u001b[0m\u001b[0;34m\u001b[0m\u001b[0;34m\u001b[0m\u001b[0m\n\u001b[0m\u001b[1;32m      4\u001b[0m \u001b[0;34m\u001b[0m\u001b[0m\n\u001b[1;32m      5\u001b[0m \u001b[0;31m# Rodadas Inter de Milão\u001b[0m\u001b[0;34m\u001b[0m\u001b[0;34m\u001b[0m\u001b[0;34m\u001b[0m\u001b[0m\n",
      "\u001b[0;31mNameError\u001b[0m: name 'trata_tabela_liga' is not defined"
     ]
    }
   ],
   "source": [
    "# Tabela da Liga Italiana\n",
    "fonte_liga_italiana_serie_a = 'https://fbref.com/pt/comps/11/Serie-A-Estatisticas#coverage'\n",
    "tabela_liga_italiana_20_21 = trata_tabela_liga(fonte_liga_italiana_serie_a)\n",
    "\n",
    "# Rodadas Inter de Milão\n",
    "fonte_rodadas_inter_milao = 'https://fbref.com/pt/equipes/d609edc0/2020-2021/partidas/s10730/schedule/Internazionale-Resultados-e-Calendarios-Serie-A'\n",
    "rodadas_inter_milao_liga = trata_tabela_rodadas_liga(fonte_rodadas_inter_milao)\n",
    "\n",
    "# Rodadas Genoa\n",
    "fonte_rodadas_genoa = 'https://fbref.com/pt/equipes/658bf2de/2020-2021/partidas/all_comps/schedule/Genoa-Resultados-e-Calendarios-Todos-os-campeonatos'\n",
    "rodadas_genoa_liga = trata_tabela_rodadas_liga(fonte_rodadas_genoa)"
   ]
  },
  {
   "cell_type": "code",
   "execution_count": null,
   "metadata": {
    "id": "JnZ8XKVMPKOn"
   },
   "outputs": [],
   "source": [
    "'''\n",
    "Número de rodadas\n",
    "'''\n",
    "n_rodadas = rodadas_inter_milao_liga.shape[0]"
   ]
  },
  {
   "cell_type": "markdown",
   "metadata": {
    "id": "Dyn-Jcuabrvk"
   },
   "source": [
    "### 4.1.1 Inter de Milão"
   ]
  },
  {
   "cell_type": "code",
   "execution_count": null,
   "metadata": {
    "id": "k_z0HFjwcRFC"
   },
   "outputs": [],
   "source": [
    "# Binarizando e renomeando colunas\n",
    "rodadas_inter_milao_liga =  binariza_coluna(rodadas_inter_milao_liga, ['resultado',\n",
    "                                                                       'local'])"
   ]
  },
  {
   "cell_type": "markdown",
   "metadata": {
    "id": "CikeXyQCBHwt"
   },
   "source": [
    "# 5 Análise de Dados"
   ]
  },
  {
   "cell_type": "markdown",
   "metadata": {
    "id": "bEnquElRVVwP"
   },
   "source": [
    "## 5.1 Tabela da liga"
   ]
  },
  {
   "cell_type": "code",
   "execution_count": null,
   "metadata": {
    "colab": {
     "base_uri": "https://localhost:8080/",
     "height": 239
    },
    "id": "yyEiEQXez80z",
    "outputId": "1c702415-2865-415a-f65b-9ad9bc9fa4ed"
   },
   "outputs": [],
   "source": [
    "tabela_liga_italiana_20_21.head()"
   ]
  },
  {
   "cell_type": "markdown",
   "metadata": {
    "id": "s9VXjqG3zZAt"
   },
   "source": [
    "## 5.2 Tendência Central"
   ]
  },
  {
   "cell_type": "code",
   "execution_count": null,
   "metadata": {
    "colab": {
     "base_uri": "https://localhost:8080/",
     "height": 202
    },
    "id": "SXEe1N6QLAOU",
    "outputId": "09c56471-495c-4298-e36a-5ef3735ea01f"
   },
   "outputs": [],
   "source": [
    "tendencia_central(rodadas_inter_milao_liga, 'Inter de Milão', \n",
    "                  numero_jogos=n_rodadas)"
   ]
  },
  {
   "cell_type": "code",
   "execution_count": null,
   "metadata": {
    "colab": {
     "base_uri": "https://localhost:8080/",
     "height": 202
    },
    "id": "TxkCwBRSly64",
    "outputId": "6eecd0c2-ce43-48cd-a3eb-5ad526fda71d"
   },
   "outputs": [],
   "source": [
    "tendencia_central_2(rodadas_inter_milao_liga.query('em_casa == 1'), 'Inter de Milão', \n",
    "                  a_favor='posse', descricao_a_favor='Posse de Bola - Casa',\n",
    "                  numero_jogos=n_rodadas)"
   ]
  },
  {
   "cell_type": "code",
   "execution_count": null,
   "metadata": {
    "colab": {
     "base_uri": "https://localhost:8080/",
     "height": 202
    },
    "id": "Dm4thrd5uNJg",
    "outputId": "4c480a77-14a1-49cf-9bfd-d8dea14d9cce"
   },
   "outputs": [],
   "source": [
    "tendencia_central_2(rodadas_inter_milao_liga.query('visitante == 1'), 'Inter de Milão', \n",
    "                  a_favor='posse', descricao_a_favor='Posse de Bola - Fora',\n",
    "                  numero_jogos=n_rodadas)"
   ]
  },
  {
   "cell_type": "code",
   "execution_count": null,
   "metadata": {
    "colab": {
     "base_uri": "https://localhost:8080/",
     "height": 202
    },
    "id": "V5fupPh2vZDF",
    "outputId": "20844370-4018-4e5d-9261-494a94314c03"
   },
   "outputs": [],
   "source": [
    "tendencia_central_2(rodadas_inter_milao_liga.query('visitante == 0'), 'Inter de Milão', \n",
    "                  a_favor='gols_marcados', descricao_a_favor='Gols Marcados - Casa',\n",
    "                  numero_jogos=n_rodadas)"
   ]
  },
  {
   "cell_type": "code",
   "execution_count": null,
   "metadata": {
    "colab": {
     "base_uri": "https://localhost:8080/",
     "height": 202
    },
    "id": "JIZASGfCvOu9",
    "outputId": "90123652-4ef6-4845-d187-fbadbfb2b0dd"
   },
   "outputs": [],
   "source": [
    "tendencia_central_2(rodadas_inter_milao_liga.query('visitante == 1'), 'Inter de Milão', \n",
    "                  a_favor='gols_marcados', descricao_a_favor='Gols Marcados - Fora',\n",
    "                  numero_jogos=n_rodadas)"
   ]
  },
  {
   "cell_type": "markdown",
   "metadata": {
    "id": "wTqLD94dgMFl"
   },
   "source": [
    "## 5.3 Correlação e Autocorrelação"
   ]
  },
  {
   "cell_type": "code",
   "execution_count": null,
   "metadata": {
    "colab": {
     "base_uri": "https://localhost:8080/",
     "height": 547
    },
    "id": "lg-oYOCjhFRe",
    "outputId": "131b9dab-29ef-4238-fcca-790467d1d4fe"
   },
   "outputs": [],
   "source": [
    "#Criar máscara para recortar o mapa de correlação\n",
    "mask = np.zeros_like(rodadas_inter_milao_liga.corr())\n",
    "mask[np.triu_indices_from(mask)] = True\n",
    "\n",
    "# Plota o mapa de correlação\n",
    "plt.figure(figsize=(8, 7))\n",
    "sns.heatmap(rodadas_inter_milao_liga.corr(), cmap='Blues', annot=True, mask=mask,\n",
    "            center=0)\n",
    "plt.title('Mapa de Correlação - Inter de Milão', fontsize=20)"
   ]
  },
  {
   "cell_type": "markdown",
   "metadata": {
    "id": "mbxDrX0ritwr"
   },
   "source": [
    "Correlação positiva: Gols marcados e vitórias\n",
    "\n",
    "Não há correlação entre a posse de bola e o resultado da partida considerando todo o histórico"
   ]
  },
  {
   "cell_type": "code",
   "execution_count": null,
   "metadata": {
    "colab": {
     "base_uri": "https://localhost:8080/",
     "height": 333
    },
    "id": "Q7qNWY-VSqH-",
    "outputId": "f48d1f4b-c277-43da-fde4-e973c47fd0be"
   },
   "outputs": [],
   "source": [
    "plot_acf(rodadas_inter_milao_liga['gols_marcados'])\n",
    "personaliza_grafico('Autocorrelação Gols Marcados', 'Partidas', 'Autocorrelação')"
   ]
  },
  {
   "cell_type": "code",
   "execution_count": null,
   "metadata": {
    "colab": {
     "base_uri": "https://localhost:8080/",
     "height": 333
    },
    "id": "aHRC0CnFYl1C",
    "outputId": "df5da2bc-9c87-400e-e9b4-5b500118d1a7"
   },
   "outputs": [],
   "source": [
    "plot_acf(rodadas_inter_milao_liga['gols_sofridos'])\n",
    "personaliza_grafico('Autocorrelação Gols Sofridos', 'Partidas', 'Autocorrelação')"
   ]
  },
  {
   "cell_type": "markdown",
   "metadata": {
    "id": "tZSqOYpTYqvE"
   },
   "source": [
    "O número de gols marcados e sofridos nas partidas anteriores não influencia na partidas seguintes."
   ]
  },
  {
   "cell_type": "markdown",
   "metadata": {},
   "source": [
    "# Gerando arquivo"
   ]
  },
  {
   "cell_type": "code",
   "execution_count": null,
   "metadata": {},
   "outputs": [],
   "source": [
    "rodadas_inter_milao_liga.to_csv('../dados/rodadas_inter_milao_liga.csv')"
   ]
  },
  {
   "cell_type": "markdown",
   "metadata": {
    "id": "yu-3Tmg4QY7c"
   },
   "source": [
    "# Referências"
   ]
  },
  {
   "cell_type": "markdown",
   "metadata": {
    "id": "FFah-G_XQlaq"
   },
   "source": [
    "FBREF. Estatísticas e Histórico do Futebol. Disponível em: https://fbref.com/pt/. Acesso em:  24 Fev. 2021."
   ]
  },
  {
   "cell_type": "markdown",
   "metadata": {
    "id": "JqO0UMYGQa9p"
   },
   "source": [
    "\n",
    "\n",
    "---\n",
    "\n"
   ]
  }
 ],
 "metadata": {
  "colab": {
   "authorship_tag": "ABX9TyNpYtBloiblNYh8np/7dAdI",
   "collapsed_sections": [
    "UFz9SEeadkfD"
   ],
   "include_colab_link": true,
   "name": "Estatisticas do Futebol.ipynb",
   "provenance": [],
   "toc_visible": true
  },
  "kernelspec": {
   "display_name": "Python 3",
   "language": "python",
   "name": "python3"
  },
  "language_info": {
   "codemirror_mode": {
    "name": "ipython",
    "version": 3
   },
   "file_extension": ".py",
   "mimetype": "text/x-python",
   "name": "python",
   "nbconvert_exporter": "python",
   "pygments_lexer": "ipython3",
   "version": "3.7.3"
  }
 },
 "nbformat": 4,
 "nbformat_minor": 1
}
