{
  "nbformat": 4,
  "nbformat_minor": 0,
  "metadata": {
    "colab": {
      "name": "Estatisticas do Futebol.ipynb",
      "provenance": [],
      "collapsed_sections": [
        "UFz9SEeadkfD"
      ],
      "toc_visible": true,
      "authorship_tag": "ABX9TyNpYtBloiblNYh8np/7dAdI",
      "include_colab_link": true
    },
    "kernelspec": {
      "name": "python3",
      "display_name": "Python 3",
      "language": "python"
    }
  },
  "cells": [
    {
      "cell_type": "markdown",
      "metadata": {
        "id": "view-in-github",
        "colab_type": "text"
      },
      "source": [
        "<a href=\"https://colab.research.google.com/github/MarcosRMG/Estatisticas-de-Futebol/blob/main/Estatisticas_do_Futebol.ipynb\" target=\"_parent\"><img src=\"https://colab.research.google.com/assets/colab-badge.svg\" alt=\"Open In Colab\"/></a>"
      ]
    },
    {
      "cell_type": "markdown",
      "metadata": {
        "id": "UFz9SEeadkfD"
      },
      "source": [
        "# 1 Bibliotecas"
      ]
    },
    {
      "cell_type": "code",
      "metadata": {
        "id": "X9sfyaS8doVM"
      },
      "source": [
        "# Leitura e tratamento dos dados\n",
        "import pandas as pd\n",
        "import requests\n",
        "from urllib.request import urlopen\n",
        "from bs4 import BeautifulSoup\n",
        "import numpy as np\n",
        "\n",
        "# Autocorrelação\n",
        "from statsmodels.graphics.tsaplots import plot_acf\n",
        "\n",
        "# Visualização de dados\n",
        "import matplotlib.pyplot as plt\n",
        "import seaborn as sns\n",
        "import matplotlib"
      ],
      "execution_count": 33,
      "outputs": []
    },
    {
      "cell_type": "code",
      "metadata": {
        "id": "wRpKrbwhThvD"
      },
      "source": [
        "# Personaliza visualizações\n",
        "matplotlib.rcParams['font.size'] = 12\n",
        "sns.set_style(style='darkgrid')"
      ],
      "execution_count": 34,
      "outputs": []
    },
    {
      "cell_type": "markdown",
      "metadata": {
        "id": "kVcCy47lLsQZ"
      },
      "source": [
        "# 2 Variáveis"
      ]
    },
    {
      "cell_type": "code",
      "metadata": {
        "id": "879zVKcTLzlT"
      },
      "source": [
        "colunas_2 = {\n",
        "    'Data': 'data', \n",
        "    'Horário': 'horario', \n",
        "    'Rodada': 'rodada', \n",
        "    'Dia': 'dia', \n",
        "    'Local': 'local', \n",
        "    'Resultado': 'resultado', \n",
        "    'GP': 'gols_marcados', \n",
        "    'GC': 'gols_sofridos',\n",
        "    'Oponente': 'oponente', \n",
        "    'xG': 'xg', \n",
        "    'xGA': 'xga', \n",
        "    'Posse': 'posse', \n",
        "    'Público': 'publico', \n",
        "    'Capitão': 'capitao', \n",
        "    'Formação': 'formacao',\n",
        "    'Árbitro': 'arbitro', \n",
        "    'Relatório da Partida': 'relatorio_partida', \n",
        "    'Notas': 'notas'\n",
        "}"
      ],
      "execution_count": 35,
      "outputs": []
    },
    {
      "cell_type": "code",
      "metadata": {
        "id": "3JrGYh5qL6Gh"
      },
      "source": [
        "colunas = {\n",
        "    'Cl': 'posicao',\n",
        "    'Equipe': 'equipe',\n",
        "    'MP': 'jogos',\t\n",
        "    'V': 'vitorias',\t\n",
        "    'E': 'empates',\t\n",
        "    'D': 'derrotas',\t\n",
        "    'GP': 'gols_marcados',\t\n",
        "    'GC': 'gols_sofridos',\t\n",
        "    'GD': 'saldo_gols',\t\n",
        "    'Pt': 'pontos',\t\n",
        "    'Últimos 5': 'ultimos_5'\n",
        "}"
      ],
      "execution_count": 36,
      "outputs": []
    },
    {
      "cell_type": "markdown",
      "metadata": {
        "id": "b_9IY-sFUs8c"
      },
      "source": [
        "# 3 Funções"
      ]
    },
    {
      "cell_type": "markdown",
      "metadata": {
        "id": "MX-XMQNwVr44"
      },
      "source": [
        "## 3.1 Leitura e limpeza do html"
      ]
    },
    {
      "cell_type": "code",
      "metadata": {
        "id": "ZmMNcVG4UzGL"
      },
      "source": [
        "def leitura_limpeza_html(url):\r\n",
        "  '''\r\n",
        "  Retira os espaços e o /n do documento html\r\n",
        "\r\n",
        "  Keywords arguments\r\n",
        "  url: Endereço url da página\r\n",
        "\r\n",
        "  return: Documento html tratado\r\n",
        "  '''\r\n",
        "  response = urlopen(url)\r\n",
        "  html = response.read().decode('UTF-8')\r\n",
        "  html_limpo = ' '.join(html.split()).replace('> <', '><')\r\n",
        "  html_soup = BeautifulSoup(html_limpo, 'html.parser')\r\n",
        "  return html_soup"
      ],
      "execution_count": 37,
      "outputs": []
    },
    {
      "cell_type": "markdown",
      "metadata": {
        "id": "XS1KMwkMD889"
      },
      "source": [
        "## 3.2 Trata tabela de rodadas da liga"
      ]
    },
    {
      "cell_type": "code",
      "metadata": {
        "id": "vIDxA9f2D1tT"
      },
      "source": [
        "def trata_tabela_rodadas_liga(html: str, dicionario_colunas=colunas_2, indice='rodada',\n",
        "                      colunas_desconsideradas=['notas', 'publico', \n",
        "                                               'relatorio_partida', 'arbitro',\n",
        "                                               'capitao', 'formacao', 'xga', 'xg',\n",
        "                                               'horario', 'dia', 'data']):\n",
        "  '''\n",
        "  Trata a tabela da liga para análise\n",
        "\n",
        "  Keywords arguments\n",
        "  html: Variável que guarda o endereço html\n",
        "  dicionario_colunas: Dicionário com a descrição da coluna padronizada\n",
        "  indice: Indice da tabela\n",
        "  colunas_desconsideradas: Lista de colunas que não serão analidas\n",
        "\n",
        "  return: Nota tabela com as informações para análise\n",
        "  '''\n",
        "  # Cria a DataFrame\n",
        "  rodadas = pd.read_html(html)[0]\n",
        "\n",
        "  # Renomeia as colunas\n",
        "  rodadas.rename(dicionario_colunas, axis=1, inplace=True)\n",
        "  \n",
        "  # Simplificando a informação de rodada\n",
        "  rodadas[indice] = rodadas[indice].str[-2:]\n",
        "  \n",
        "  # Alterando o tipo  de dado da coluna rodada\n",
        "  rodadas[indice] = rodadas[indice].astype('int32')\n",
        "  \n",
        "  # Definindo a coluna rodada como índice\n",
        "  rodadas.set_index(indice, inplace=True)\n",
        "\n",
        "  # Ordena pelo registro mais recente\n",
        "  rodadas.sort_index(ascending=False, inplace=True)\n",
        "  \n",
        "  # Exclusão das colunas desnecessárias e linhas com NaN\n",
        "  rodadas.drop(colunas_desconsideradas, axis=1, \n",
        "                              inplace=True)\n",
        "  rodadas.dropna(inplace=True)\n",
        "\n",
        "  return rodadas"
      ],
      "execution_count": 38,
      "outputs": []
    },
    {
      "cell_type": "markdown",
      "metadata": {
        "id": "9fNMH5Q7HKD8"
      },
      "source": [
        "## 3.3 Trata tabela da liga"
      ]
    },
    {
      "cell_type": "code",
      "metadata": {
        "id": "xW0yptUPHPXN"
      },
      "source": [
        "def trata_tabela_liga(html: str, dicionario_colunas=colunas, \n",
        "                      colunas_desconsideradas=['xG', 'xGA', 'xGD', 'xGD/90', \n",
        "                                               'Público', 'Artilheiro da equipe', \n",
        "                                               'Goleiro', 'Notas']):\n",
        "  '''\n",
        "  Leitura e limpeza da tabela da liga\n",
        "\n",
        "  Keywords arguments\n",
        "  html: Html contendo as informações da tabela\n",
        "  dicionario_colunas: Dicionário com a descrição da coluna padronizada\n",
        "  colunas_desconsideradas: Lista de colunas que não serão analidas\n",
        "\n",
        "  return: Nota tabela com as informações para análise\n",
        "  '''\n",
        "  tabela = pd.read_html(html)[0]\n",
        "  tabela.rename(dicionario_colunas, axis=1, inplace=True)\n",
        "  tabela.drop(colunas_desconsideradas, axis=1, inplace=True)\n",
        "  return tabela"
      ],
      "execution_count": 39,
      "outputs": []
    },
    {
      "cell_type": "markdown",
      "metadata": {
        "id": "Xyfj4CnANQc-"
      },
      "source": [
        "## 3.4 Calcula medidas de tendência central"
      ]
    },
    {
      "cell_type": "code",
      "metadata": {
        "id": "invn5LQQNZQl"
      },
      "source": [
        "def tendencia_central(dados: pd.DataFrame, time: str, numero_jogos=5, \n",
        "                      a_favor='gols_marcados', contra='gols_sofridos',\n",
        "                      descricao_a_favor='Gols Marcados', \n",
        "                      descricao_contra='Gols Sofridos'):\n",
        "  '''\n",
        "  Mostra uma tabela com as estatísticas de gols\n",
        "\n",
        "  Keywords argumensts\n",
        "  dados: DataFrame com as informações para análise\n",
        "  numero_jogos: Número de jogos anteriores a ser calculado, todo o histórico, \n",
        "  últimos 5, etc.\n",
        "  time: Equipe de futebol que está sendo analisada\n",
        "  a_favor: Coluna com as informações a favor do time\n",
        "  contra: Coluna com as informações contra o time\n",
        "  descricao_a_favor: Descrição da coluna com os número a favor do time\n",
        "  descricao_contra: Descrição da coluna com os número contra o time\n",
        "\n",
        "  return: Tabela com as estatísticas calculadas\n",
        "  '''\n",
        "  indice = f'''\n",
        "  {time} - Últimos {numero_jogos} jogos\n",
        "  '''\n",
        "  _ =  pd.DataFrame({\n",
        "      descricao_a_favor: [round(dados[a_favor][:numero_jogos].mean(), 1), \n",
        "                        round(dados[a_favor][:numero_jogos].median(), 1), \n",
        "                        round(dados[a_favor][:numero_jogos].mode()[0], 1),\n",
        "                        round(dados[a_favor][:numero_jogos].std(), 1)],\n",
        "      descricao_contra: [round(dados[contra][:numero_jogos].mean(), 1), \n",
        "                        round(dados[contra][:numero_jogos].median(), 1), \n",
        "                        round(dados[contra][:numero_jogos].mode()[0], 1),\n",
        "                        round(dados[contra][:numero_jogos].std(), 1)],\n",
        "      indice: ['Média', 'Mediana', 'Moda', 'Desvio Padrão']\n",
        "  })\n",
        "  _.set_index(indice, inplace=True)\n",
        "  return _\n"
      ],
      "execution_count": 40,
      "outputs": []
    },
    {
      "cell_type": "markdown",
      "metadata": {
        "id": "PvkuItjQS86x"
      },
      "source": [
        "## 3.5 Personaliza gráfico"
      ]
    },
    {
      "cell_type": "code",
      "metadata": {
        "id": "M8iknpoVTGHS"
      },
      "source": [
        "def personaliza_grafico(titulo: str, eixo_x: str, eixo_y: str):\n",
        "  plt.title(titulo, loc='left', fontsize=24, y=1.1)\n",
        "  plt.xlabel(eixo_x, fontsize=14)\n",
        "  plt.ylabel(eixo_y, fontsize=14);"
      ],
      "execution_count": 41,
      "outputs": []
    },
    {
      "cell_type": "markdown",
      "metadata": {
        "id": "n3j36Ft1Zu4k"
      },
      "source": [
        "## 3.6 Altera o tipo de dado"
      ]
    },
    {
      "cell_type": "code",
      "metadata": {
        "id": "nCStpWCrZyhq"
      },
      "source": [
        "def altera_tipo_dado(dados: pd.DataFrame, coluna: str, tipo_dado: str):\n",
        "  '''\n",
        "  Altera o tipo de dado da coluna\n",
        "\n",
        "  Keywords arguments\n",
        "  dados: DataFrame contendo as informações\n",
        "  coluna: Coluna do DataFrame para alteração do tipo de dado\n",
        "  tipo_dado: Novo tipo de dado\n",
        "\n",
        "  return: Coluna com o novo tipo de dado para atribuição ao DataFrame original\n",
        "  '''\n",
        "  return dados[coluna].astype(tipo_dado)"
      ],
      "execution_count": 42,
      "outputs": []
    },
    {
      "cell_type": "markdown",
      "metadata": {
        "id": "t9nQJdJIai8S"
      },
      "source": [
        "## 3.7 Altera formato da informação nas linhas"
      ]
    },
    {
      "cell_type": "code",
      "metadata": {
        "id": "ByvilK9HamGN"
      },
      "source": [
        "def altera_formato_informacao(dados: pd.DataFrame, coluna: str, \n",
        "                              dicionario_valores: dict()):\n",
        "  '''\n",
        "  Altera o tipo de dado da coluna\n",
        "\n",
        "  Keywords arguments\n",
        "  dados: DataFrame contendo as informações\n",
        "  coluna: Coluna do DataFrame para alteração do tipo de dado\n",
        "  dicionario_valores: Novos valores para as linhas\n",
        "\n",
        "  return: Coluna com o novo formato de informação para coluna\n",
        "  '''\n",
        "  return dados[coluna].rename(dicionario_valores)"
      ],
      "execution_count": 43,
      "outputs": []
    },
    {
      "cell_type": "markdown",
      "metadata": {
        "id": "89osILfmeXLi"
      },
      "source": [
        "## 3.8 Binariza coluna"
      ]
    },
    {
      "cell_type": "code",
      "metadata": {
        "id": "RRVoKhjEefqe"
      },
      "source": [
        "def binariza_coluna(dados: pd.DataFrame, colunas: list()):\n",
        "  '''\n",
        "  Realiza a binarização da coluna\n",
        "\n",
        "  Keywords arguments\n",
        "  dados: DataFrame com as informações para binarização\n",
        "  colunas: Lista de colunas a ser binarizada\n",
        "\n",
        "  return Dados binarizados para atribuição excluíndo se a coluna antiga\n",
        "  '''\n",
        "  dados = dados.join(pd.get_dummies(dados[colunas]))\n",
        "  dados.drop(colunas, axis=1, inplace=True)\n",
        "  dados.rename({'local_Visitante': 'visitante', 'local_Em casa': 'em_casa', \n",
        "                'resultado_E': 'empate', 'resultado_D': 'derrota', \n",
        "                'resultado_V': 'vitoria'}, axis=1, inplace=True)\n",
        "  return dados"
      ],
      "execution_count": 44,
      "outputs": []
    },
    {
      "cell_type": "markdown",
      "metadata": {
        "id": "nUE-OjwRm5gm"
      },
      "source": [
        "## 3.9 Calcula medidas de tendência central 2"
      ]
    },
    {
      "cell_type": "code",
      "metadata": {
        "id": "GRGf1susm5gn"
      },
      "source": [
        "def tendencia_central_2(dados: pd.DataFrame, time: str, numero_jogos=5, \n",
        "                      a_favor='gols_marcados', descricao_a_favor='Gols Marcados'):\n",
        "  '''\n",
        "  Mostra uma tabela com as estatísticas de gols\n",
        "\n",
        "  Keywords argumensts\n",
        "  dados: DataFrame com as informações para análise\n",
        "  numero_jogos: Número de jogos anteriores a ser calculado, todo o histórico, \n",
        "  últimos 5, etc.\n",
        "  time: Equipe de futebol que está sendo analisada\n",
        "  a_favor: Coluna com as informações a favor do time\n",
        "  descricao_a_favor: Descrição da coluna com os número a favor do time\n",
        "\n",
        "  return: Tabela com as estatísticas calculadas\n",
        "  '''\n",
        "  indice = f'''\n",
        "  {time} - Últimos {numero_jogos} jogos\n",
        "  '''\n",
        "  _ =  pd.DataFrame({\n",
        "      descricao_a_favor: [round(dados[a_favor][:numero_jogos].mean(), 1), \n",
        "                        round(dados[a_favor][:numero_jogos].median(), 1), \n",
        "                        round(dados[a_favor][:numero_jogos].mode()[0], 1),\n",
        "                        round(dados[a_favor][:numero_jogos].std(), 1)],\n",
        "      indice: ['Média', 'Mediana', 'Moda', 'Desvio Padrão']\n",
        "  })\n",
        "  _.set_index(indice, inplace=True)\n",
        "  return _\n"
      ],
      "execution_count": 45,
      "outputs": []
    },
    {
      "cell_type": "markdown",
      "metadata": {
        "id": "9bWSM2fudGUt"
      },
      "source": [
        "# 4 Serie A Italiana 2020-2021"
      ]
    },
    {
      "cell_type": "markdown",
      "metadata": {
        "id": "NjvU4ImkdetX"
      },
      "source": [
        "## 4.1 Dados"
      ]
    },
    {
      "cell_type": "code",
      "metadata": {
        "id": "E_R5-lF3c96C"
      },
      "source": [
        "# Tabela da Liga Italiana\n",
        "fonte_liga_italiana_serie_a = 'https://fbref.com/pt/comps/11/Serie-A-Estatisticas#coverage'\n",
        "tabela_liga_italiana_20_21 = trata_tabela_liga(fonte_liga_italiana_serie_a)\n",
        "\n",
        "# Rodadas Inter de Milão\n",
        "fonte_rodadas_inter_milao = 'https://fbref.com/pt/equipes/d609edc0/2020-2021/partidas/s10730/schedule/Internazionale-Resultados-e-Calendarios-Serie-A'\n",
        "rodadas_inter_milao_liga = trata_tabela_rodadas_liga(fonte_rodadas_inter_milao)\n",
        "\n",
        "# Rodadas Genoa\n",
        "fonte_rodadas_genoa = 'https://fbref.com/pt/equipes/658bf2de/2020-2021/partidas/all_comps/schedule/Genoa-Resultados-e-Calendarios-Todos-os-campeonatos'\n",
        "rodadas_genoa_liga = trata_tabela_rodadas_liga(fonte_rodadas_genoa)"
      ],
      "execution_count": 46,
      "outputs": [
        {
          "output_type": "error",
          "ename": "ValueError",
          "evalue": "invalid literal for int() with base 10: 'da'",
          "traceback": [
            "\u001b[0;31m---------------------------------------------------------------------------\u001b[0m",
            "\u001b[0;31mValueError\u001b[0m                                Traceback (most recent call last)",
            "\u001b[0;32m<ipython-input-46-77a931478e2b>\u001b[0m in \u001b[0;36m<module>\u001b[0;34m\u001b[0m\n\u001b[1;32m      9\u001b[0m \u001b[0;31m# Rodadas Genoa\u001b[0m\u001b[0;34m\u001b[0m\u001b[0;34m\u001b[0m\u001b[0;34m\u001b[0m\u001b[0m\n\u001b[1;32m     10\u001b[0m \u001b[0mfonte_rodadas_genoa\u001b[0m \u001b[0;34m=\u001b[0m \u001b[0;34m'https://fbref.com/pt/equipes/658bf2de/2020-2021/partidas/all_comps/schedule/Genoa-Resultados-e-Calendarios-Todos-os-campeonatos'\u001b[0m\u001b[0;34m\u001b[0m\u001b[0;34m\u001b[0m\u001b[0m\n\u001b[0;32m---> 11\u001b[0;31m \u001b[0mrodadas_genoa_liga\u001b[0m \u001b[0;34m=\u001b[0m \u001b[0mtrata_tabela_rodadas_liga\u001b[0m\u001b[0;34m(\u001b[0m\u001b[0mfonte_rodadas_genoa\u001b[0m\u001b[0;34m)\u001b[0m\u001b[0;34m\u001b[0m\u001b[0;34m\u001b[0m\u001b[0m\n\u001b[0m",
            "\u001b[0;32m<ipython-input-38-a892a643fbed>\u001b[0m in \u001b[0;36mtrata_tabela_rodadas_liga\u001b[0;34m(html, dicionario_colunas, indice, colunas_desconsideradas)\u001b[0m\n\u001b[1;32m     25\u001b[0m \u001b[0;34m\u001b[0m\u001b[0m\n\u001b[1;32m     26\u001b[0m   \u001b[0;31m# Alterando o tipo  de dado da coluna rodada\u001b[0m\u001b[0;34m\u001b[0m\u001b[0;34m\u001b[0m\u001b[0;34m\u001b[0m\u001b[0m\n\u001b[0;32m---> 27\u001b[0;31m   \u001b[0mrodadas\u001b[0m\u001b[0;34m[\u001b[0m\u001b[0mindice\u001b[0m\u001b[0;34m]\u001b[0m \u001b[0;34m=\u001b[0m \u001b[0mrodadas\u001b[0m\u001b[0;34m[\u001b[0m\u001b[0mindice\u001b[0m\u001b[0;34m]\u001b[0m\u001b[0;34m.\u001b[0m\u001b[0mastype\u001b[0m\u001b[0;34m(\u001b[0m\u001b[0;34m'int32'\u001b[0m\u001b[0;34m)\u001b[0m\u001b[0;34m\u001b[0m\u001b[0;34m\u001b[0m\u001b[0m\n\u001b[0m\u001b[1;32m     28\u001b[0m \u001b[0;34m\u001b[0m\u001b[0m\n\u001b[1;32m     29\u001b[0m   \u001b[0;31m# Definindo a coluna rodada como índice\u001b[0m\u001b[0;34m\u001b[0m\u001b[0;34m\u001b[0m\u001b[0;34m\u001b[0m\u001b[0m\n",
            "\u001b[0;32m~/Documents/Projetos/Estatisticas-de-Futebol/venv_foot_stats/lib/python3.8/site-packages/pandas/core/generic.py\u001b[0m in \u001b[0;36mastype\u001b[0;34m(self, dtype, copy, errors)\u001b[0m\n\u001b[1;32m   5872\u001b[0m         \u001b[0;32melse\u001b[0m\u001b[0;34m:\u001b[0m\u001b[0;34m\u001b[0m\u001b[0;34m\u001b[0m\u001b[0m\n\u001b[1;32m   5873\u001b[0m             \u001b[0;31m# else, only a single dtype is given\u001b[0m\u001b[0;34m\u001b[0m\u001b[0;34m\u001b[0m\u001b[0;34m\u001b[0m\u001b[0m\n\u001b[0;32m-> 5874\u001b[0;31m             \u001b[0mnew_data\u001b[0m \u001b[0;34m=\u001b[0m \u001b[0mself\u001b[0m\u001b[0;34m.\u001b[0m\u001b[0m_mgr\u001b[0m\u001b[0;34m.\u001b[0m\u001b[0mastype\u001b[0m\u001b[0;34m(\u001b[0m\u001b[0mdtype\u001b[0m\u001b[0;34m=\u001b[0m\u001b[0mdtype\u001b[0m\u001b[0;34m,\u001b[0m \u001b[0mcopy\u001b[0m\u001b[0;34m=\u001b[0m\u001b[0mcopy\u001b[0m\u001b[0;34m,\u001b[0m \u001b[0merrors\u001b[0m\u001b[0;34m=\u001b[0m\u001b[0merrors\u001b[0m\u001b[0;34m)\u001b[0m\u001b[0;34m\u001b[0m\u001b[0;34m\u001b[0m\u001b[0m\n\u001b[0m\u001b[1;32m   5875\u001b[0m             \u001b[0;32mreturn\u001b[0m \u001b[0mself\u001b[0m\u001b[0;34m.\u001b[0m\u001b[0m_constructor\u001b[0m\u001b[0;34m(\u001b[0m\u001b[0mnew_data\u001b[0m\u001b[0;34m)\u001b[0m\u001b[0;34m.\u001b[0m\u001b[0m__finalize__\u001b[0m\u001b[0;34m(\u001b[0m\u001b[0mself\u001b[0m\u001b[0;34m,\u001b[0m \u001b[0mmethod\u001b[0m\u001b[0;34m=\u001b[0m\u001b[0;34m\"astype\"\u001b[0m\u001b[0;34m)\u001b[0m\u001b[0;34m\u001b[0m\u001b[0;34m\u001b[0m\u001b[0m\n\u001b[1;32m   5876\u001b[0m \u001b[0;34m\u001b[0m\u001b[0m\n",
            "\u001b[0;32m~/Documents/Projetos/Estatisticas-de-Futebol/venv_foot_stats/lib/python3.8/site-packages/pandas/core/internals/managers.py\u001b[0m in \u001b[0;36mastype\u001b[0;34m(self, dtype, copy, errors)\u001b[0m\n\u001b[1;32m    629\u001b[0m         \u001b[0mself\u001b[0m\u001b[0;34m,\u001b[0m \u001b[0mdtype\u001b[0m\u001b[0;34m,\u001b[0m \u001b[0mcopy\u001b[0m\u001b[0;34m:\u001b[0m \u001b[0mbool\u001b[0m \u001b[0;34m=\u001b[0m \u001b[0;32mFalse\u001b[0m\u001b[0;34m,\u001b[0m \u001b[0merrors\u001b[0m\u001b[0;34m:\u001b[0m \u001b[0mstr\u001b[0m \u001b[0;34m=\u001b[0m \u001b[0;34m\"raise\"\u001b[0m\u001b[0;34m\u001b[0m\u001b[0;34m\u001b[0m\u001b[0m\n\u001b[1;32m    630\u001b[0m     ) -> \"BlockManager\":\n\u001b[0;32m--> 631\u001b[0;31m         \u001b[0;32mreturn\u001b[0m \u001b[0mself\u001b[0m\u001b[0;34m.\u001b[0m\u001b[0mapply\u001b[0m\u001b[0;34m(\u001b[0m\u001b[0;34m\"astype\"\u001b[0m\u001b[0;34m,\u001b[0m \u001b[0mdtype\u001b[0m\u001b[0;34m=\u001b[0m\u001b[0mdtype\u001b[0m\u001b[0;34m,\u001b[0m \u001b[0mcopy\u001b[0m\u001b[0;34m=\u001b[0m\u001b[0mcopy\u001b[0m\u001b[0;34m,\u001b[0m \u001b[0merrors\u001b[0m\u001b[0;34m=\u001b[0m\u001b[0merrors\u001b[0m\u001b[0;34m)\u001b[0m\u001b[0;34m\u001b[0m\u001b[0;34m\u001b[0m\u001b[0m\n\u001b[0m\u001b[1;32m    632\u001b[0m \u001b[0;34m\u001b[0m\u001b[0m\n\u001b[1;32m    633\u001b[0m     def convert(\n",
            "\u001b[0;32m~/Documents/Projetos/Estatisticas-de-Futebol/venv_foot_stats/lib/python3.8/site-packages/pandas/core/internals/managers.py\u001b[0m in \u001b[0;36mapply\u001b[0;34m(self, f, align_keys, ignore_failures, **kwargs)\u001b[0m\n\u001b[1;32m    425\u001b[0m                     \u001b[0mapplied\u001b[0m \u001b[0;34m=\u001b[0m \u001b[0mb\u001b[0m\u001b[0;34m.\u001b[0m\u001b[0mapply\u001b[0m\u001b[0;34m(\u001b[0m\u001b[0mf\u001b[0m\u001b[0;34m,\u001b[0m \u001b[0;34m**\u001b[0m\u001b[0mkwargs\u001b[0m\u001b[0;34m)\u001b[0m\u001b[0;34m\u001b[0m\u001b[0;34m\u001b[0m\u001b[0m\n\u001b[1;32m    426\u001b[0m                 \u001b[0;32melse\u001b[0m\u001b[0;34m:\u001b[0m\u001b[0;34m\u001b[0m\u001b[0;34m\u001b[0m\u001b[0m\n\u001b[0;32m--> 427\u001b[0;31m                     \u001b[0mapplied\u001b[0m \u001b[0;34m=\u001b[0m \u001b[0mgetattr\u001b[0m\u001b[0;34m(\u001b[0m\u001b[0mb\u001b[0m\u001b[0;34m,\u001b[0m \u001b[0mf\u001b[0m\u001b[0;34m)\u001b[0m\u001b[0;34m(\u001b[0m\u001b[0;34m**\u001b[0m\u001b[0mkwargs\u001b[0m\u001b[0;34m)\u001b[0m\u001b[0;34m\u001b[0m\u001b[0;34m\u001b[0m\u001b[0m\n\u001b[0m\u001b[1;32m    428\u001b[0m             \u001b[0;32mexcept\u001b[0m \u001b[0;34m(\u001b[0m\u001b[0mTypeError\u001b[0m\u001b[0;34m,\u001b[0m \u001b[0mNotImplementedError\u001b[0m\u001b[0;34m)\u001b[0m\u001b[0;34m:\u001b[0m\u001b[0;34m\u001b[0m\u001b[0;34m\u001b[0m\u001b[0m\n\u001b[1;32m    429\u001b[0m                 \u001b[0;32mif\u001b[0m \u001b[0;32mnot\u001b[0m \u001b[0mignore_failures\u001b[0m\u001b[0;34m:\u001b[0m\u001b[0;34m\u001b[0m\u001b[0;34m\u001b[0m\u001b[0m\n",
            "\u001b[0;32m~/Documents/Projetos/Estatisticas-de-Futebol/venv_foot_stats/lib/python3.8/site-packages/pandas/core/internals/blocks.py\u001b[0m in \u001b[0;36mastype\u001b[0;34m(self, dtype, copy, errors)\u001b[0m\n\u001b[1;32m    671\u001b[0m             \u001b[0mvals1d\u001b[0m \u001b[0;34m=\u001b[0m \u001b[0mvalues\u001b[0m\u001b[0;34m.\u001b[0m\u001b[0mravel\u001b[0m\u001b[0;34m(\u001b[0m\u001b[0;34m)\u001b[0m\u001b[0;34m\u001b[0m\u001b[0;34m\u001b[0m\u001b[0m\n\u001b[1;32m    672\u001b[0m             \u001b[0;32mtry\u001b[0m\u001b[0;34m:\u001b[0m\u001b[0;34m\u001b[0m\u001b[0;34m\u001b[0m\u001b[0m\n\u001b[0;32m--> 673\u001b[0;31m                 \u001b[0mvalues\u001b[0m \u001b[0;34m=\u001b[0m \u001b[0mastype_nansafe\u001b[0m\u001b[0;34m(\u001b[0m\u001b[0mvals1d\u001b[0m\u001b[0;34m,\u001b[0m \u001b[0mdtype\u001b[0m\u001b[0;34m,\u001b[0m \u001b[0mcopy\u001b[0m\u001b[0;34m=\u001b[0m\u001b[0;32mTrue\u001b[0m\u001b[0;34m)\u001b[0m\u001b[0;34m\u001b[0m\u001b[0;34m\u001b[0m\u001b[0m\n\u001b[0m\u001b[1;32m    674\u001b[0m             \u001b[0;32mexcept\u001b[0m \u001b[0;34m(\u001b[0m\u001b[0mValueError\u001b[0m\u001b[0;34m,\u001b[0m \u001b[0mTypeError\u001b[0m\u001b[0;34m)\u001b[0m\u001b[0;34m:\u001b[0m\u001b[0;34m\u001b[0m\u001b[0;34m\u001b[0m\u001b[0m\n\u001b[1;32m    675\u001b[0m                 \u001b[0;31m# e.g. astype_nansafe can fail on object-dtype of strings\u001b[0m\u001b[0;34m\u001b[0m\u001b[0;34m\u001b[0m\u001b[0;34m\u001b[0m\u001b[0m\n",
            "\u001b[0;32m~/Documents/Projetos/Estatisticas-de-Futebol/venv_foot_stats/lib/python3.8/site-packages/pandas/core/dtypes/cast.py\u001b[0m in \u001b[0;36mastype_nansafe\u001b[0;34m(arr, dtype, copy, skipna)\u001b[0m\n\u001b[1;32m   1072\u001b[0m         \u001b[0;31m# work around NumPy brokenness, #1987\u001b[0m\u001b[0;34m\u001b[0m\u001b[0;34m\u001b[0m\u001b[0;34m\u001b[0m\u001b[0m\n\u001b[1;32m   1073\u001b[0m         \u001b[0;32mif\u001b[0m \u001b[0mnp\u001b[0m\u001b[0;34m.\u001b[0m\u001b[0missubdtype\u001b[0m\u001b[0;34m(\u001b[0m\u001b[0mdtype\u001b[0m\u001b[0;34m.\u001b[0m\u001b[0mtype\u001b[0m\u001b[0;34m,\u001b[0m \u001b[0mnp\u001b[0m\u001b[0;34m.\u001b[0m\u001b[0minteger\u001b[0m\u001b[0;34m)\u001b[0m\u001b[0;34m:\u001b[0m\u001b[0;34m\u001b[0m\u001b[0;34m\u001b[0m\u001b[0m\n\u001b[0;32m-> 1074\u001b[0;31m             \u001b[0;32mreturn\u001b[0m \u001b[0mlib\u001b[0m\u001b[0;34m.\u001b[0m\u001b[0mastype_intsafe\u001b[0m\u001b[0;34m(\u001b[0m\u001b[0marr\u001b[0m\u001b[0;34m.\u001b[0m\u001b[0mravel\u001b[0m\u001b[0;34m(\u001b[0m\u001b[0;34m)\u001b[0m\u001b[0;34m,\u001b[0m \u001b[0mdtype\u001b[0m\u001b[0;34m)\u001b[0m\u001b[0;34m.\u001b[0m\u001b[0mreshape\u001b[0m\u001b[0;34m(\u001b[0m\u001b[0marr\u001b[0m\u001b[0;34m.\u001b[0m\u001b[0mshape\u001b[0m\u001b[0;34m)\u001b[0m\u001b[0;34m\u001b[0m\u001b[0;34m\u001b[0m\u001b[0m\n\u001b[0m\u001b[1;32m   1075\u001b[0m \u001b[0;34m\u001b[0m\u001b[0m\n\u001b[1;32m   1076\u001b[0m         \u001b[0;31m# if we have a datetime/timedelta array of objects\u001b[0m\u001b[0;34m\u001b[0m\u001b[0;34m\u001b[0m\u001b[0;34m\u001b[0m\u001b[0m\n",
            "\u001b[0;32mpandas/_libs/lib.pyx\u001b[0m in \u001b[0;36mpandas._libs.lib.astype_intsafe\u001b[0;34m()\u001b[0m\n",
            "\u001b[0;31mValueError\u001b[0m: invalid literal for int() with base 10: 'da'"
          ]
        }
      ]
    },
    {
      "cell_type": "code",
      "metadata": {
        "id": "JnZ8XKVMPKOn"
      },
      "source": [
        "'''\n",
        "Número de rodadas\n",
        "'''\n",
        "n_rodadas = rodadas_inter_milao_liga.shape[0]"
      ],
      "execution_count": 15,
      "outputs": []
    },
    {
      "cell_type": "markdown",
      "metadata": {
        "id": "Dyn-Jcuabrvk"
      },
      "source": [
        "### 4.1.1 Inter de Milão"
      ]
    },
    {
      "cell_type": "code",
      "metadata": {
        "id": "k_z0HFjwcRFC"
      },
      "source": [
        "# Binarizando e renomeando colunas\n",
        "rodadas_inter_milao_liga =  binariza_coluna(rodadas_inter_milao_liga, ['resultado',\n",
        "                                                                       'local'])"
      ],
      "execution_count": 16,
      "outputs": []
    },
    {
      "cell_type": "markdown",
      "metadata": {
        "id": "CikeXyQCBHwt"
      },
      "source": [
        "# 5 Análise de Dados"
      ]
    },
    {
      "cell_type": "markdown",
      "metadata": {
        "id": "bEnquElRVVwP"
      },
      "source": [
        "## 5.1 Tabela da liga"
      ]
    },
    {
      "cell_type": "code",
      "metadata": {
        "colab": {
          "base_uri": "https://localhost:8080/",
          "height": 239
        },
        "id": "yyEiEQXez80z",
        "outputId": "1c702415-2865-415a-f65b-9ad9bc9fa4ed"
      },
      "source": [
        "tabela_liga_italiana_20_21.head()"
      ],
      "execution_count": 22,
      "outputs": [
        {
          "output_type": "execute_result",
          "data": {
            "text/html": [
              "<div>\n",
              "<style scoped>\n",
              "    .dataframe tbody tr th:only-of-type {\n",
              "        vertical-align: middle;\n",
              "    }\n",
              "\n",
              "    .dataframe tbody tr th {\n",
              "        vertical-align: top;\n",
              "    }\n",
              "\n",
              "    .dataframe thead th {\n",
              "        text-align: right;\n",
              "    }\n",
              "</style>\n",
              "<table border=\"1\" class=\"dataframe\">\n",
              "  <thead>\n",
              "    <tr style=\"text-align: right;\">\n",
              "      <th></th>\n",
              "      <th>posicao</th>\n",
              "      <th>equipe</th>\n",
              "      <th>jogos</th>\n",
              "      <th>vitorias</th>\n",
              "      <th>empates</th>\n",
              "      <th>derrotas</th>\n",
              "      <th>gols_marcados</th>\n",
              "      <th>gols_sofridos</th>\n",
              "      <th>saldo_gols</th>\n",
              "      <th>pontos</th>\n",
              "      <th>ultimos_5</th>\n",
              "    </tr>\n",
              "  </thead>\n",
              "  <tbody>\n",
              "    <tr>\n",
              "      <th>0</th>\n",
              "      <td>1</td>\n",
              "      <td>Inter</td>\n",
              "      <td>23</td>\n",
              "      <td>16</td>\n",
              "      <td>5</td>\n",
              "      <td>2</td>\n",
              "      <td>57</td>\n",
              "      <td>24</td>\n",
              "      <td>33</td>\n",
              "      <td>53</td>\n",
              "      <td>D W W W W</td>\n",
              "    </tr>\n",
              "    <tr>\n",
              "      <th>1</th>\n",
              "      <td>2</td>\n",
              "      <td>Milan</td>\n",
              "      <td>23</td>\n",
              "      <td>15</td>\n",
              "      <td>4</td>\n",
              "      <td>4</td>\n",
              "      <td>45</td>\n",
              "      <td>28</td>\n",
              "      <td>17</td>\n",
              "      <td>49</td>\n",
              "      <td>L W W L L</td>\n",
              "    </tr>\n",
              "    <tr>\n",
              "      <th>2</th>\n",
              "      <td>3</td>\n",
              "      <td>Juventus</td>\n",
              "      <td>22</td>\n",
              "      <td>13</td>\n",
              "      <td>6</td>\n",
              "      <td>3</td>\n",
              "      <td>44</td>\n",
              "      <td>19</td>\n",
              "      <td>25</td>\n",
              "      <td>45</td>\n",
              "      <td>W W W L W</td>\n",
              "    </tr>\n",
              "    <tr>\n",
              "      <th>3</th>\n",
              "      <td>4</td>\n",
              "      <td>Roma</td>\n",
              "      <td>23</td>\n",
              "      <td>13</td>\n",
              "      <td>5</td>\n",
              "      <td>5</td>\n",
              "      <td>47</td>\n",
              "      <td>35</td>\n",
              "      <td>12</td>\n",
              "      <td>44</td>\n",
              "      <td>W W L W D</td>\n",
              "    </tr>\n",
              "    <tr>\n",
              "      <th>4</th>\n",
              "      <td>5</td>\n",
              "      <td>Atalanta</td>\n",
              "      <td>23</td>\n",
              "      <td>12</td>\n",
              "      <td>7</td>\n",
              "      <td>4</td>\n",
              "      <td>53</td>\n",
              "      <td>31</td>\n",
              "      <td>22</td>\n",
              "      <td>43</td>\n",
              "      <td>W L D W W</td>\n",
              "    </tr>\n",
              "  </tbody>\n",
              "</table>\n",
              "</div>"
            ],
            "text/plain": [
              "   posicao    equipe  jogos  ...  saldo_gols  pontos  ultimos_5\n",
              "0        1     Inter     23  ...          33      53  D W W W W\n",
              "1        2     Milan     23  ...          17      49  L W W L L\n",
              "2        3  Juventus     22  ...          25      45  W W W L W\n",
              "3        4      Roma     23  ...          12      44  W W L W D\n",
              "4        5  Atalanta     23  ...          22      43  W L D W W\n",
              "\n",
              "[5 rows x 11 columns]"
            ]
          },
          "metadata": {
            "tags": []
          },
          "execution_count": 22
        }
      ]
    },
    {
      "cell_type": "markdown",
      "metadata": {
        "id": "s9VXjqG3zZAt"
      },
      "source": [
        "## 5.2 Tendência Central"
      ]
    },
    {
      "cell_type": "code",
      "metadata": {
        "colab": {
          "base_uri": "https://localhost:8080/",
          "height": 202
        },
        "id": "SXEe1N6QLAOU",
        "outputId": "09c56471-495c-4298-e36a-5ef3735ea01f"
      },
      "source": [
        "tendencia_central(rodadas_inter_milao_liga, 'Inter de Milão', \n",
        "                  numero_jogos=n_rodadas)"
      ],
      "execution_count": 58,
      "outputs": [
        {
          "output_type": "execute_result",
          "data": {
            "text/html": [
              "<div>\n",
              "<style scoped>\n",
              "    .dataframe tbody tr th:only-of-type {\n",
              "        vertical-align: middle;\n",
              "    }\n",
              "\n",
              "    .dataframe tbody tr th {\n",
              "        vertical-align: top;\n",
              "    }\n",
              "\n",
              "    .dataframe thead th {\n",
              "        text-align: right;\n",
              "    }\n",
              "</style>\n",
              "<table border=\"1\" class=\"dataframe\">\n",
              "  <thead>\n",
              "    <tr style=\"text-align: right;\">\n",
              "      <th></th>\n",
              "      <th>Gols Marcados</th>\n",
              "      <th>Gols Sofridos</th>\n",
              "    </tr>\n",
              "    <tr>\n",
              "      <th>Inter de Milão - Últimos 23 jogos</th>\n",
              "      <th></th>\n",
              "      <th></th>\n",
              "    </tr>\n",
              "  </thead>\n",
              "  <tbody>\n",
              "    <tr>\n",
              "      <th>Média</th>\n",
              "      <td>2.5</td>\n",
              "      <td>1.0</td>\n",
              "    </tr>\n",
              "    <tr>\n",
              "      <th>Mediana</th>\n",
              "      <td>2.0</td>\n",
              "      <td>1.0</td>\n",
              "    </tr>\n",
              "    <tr>\n",
              "      <th>Moda</th>\n",
              "      <td>2.0</td>\n",
              "      <td>0.0</td>\n",
              "    </tr>\n",
              "    <tr>\n",
              "      <th>Desvio Padrão</th>\n",
              "      <td>1.4</td>\n",
              "      <td>0.9</td>\n",
              "    </tr>\n",
              "  </tbody>\n",
              "</table>\n",
              "</div>"
            ],
            "text/plain": [
              "                                           Gols Marcados  Gols Sofridos\n",
              "\\n  Inter de Milão - Últimos 23 jogos\\n                                \n",
              "Média                                                2.5            1.0\n",
              "Mediana                                              2.0            1.0\n",
              "Moda                                                 2.0            0.0\n",
              "Desvio Padrão                                        1.4            0.9"
            ]
          },
          "metadata": {
            "tags": []
          },
          "execution_count": 58
        }
      ]
    },
    {
      "cell_type": "code",
      "metadata": {
        "colab": {
          "base_uri": "https://localhost:8080/",
          "height": 202
        },
        "id": "TxkCwBRSly64",
        "outputId": "6eecd0c2-ce43-48cd-a3eb-5ad526fda71d"
      },
      "source": [
        "tendencia_central_2(rodadas_inter_milao_liga.query('em_casa == 1'), 'Inter de Milão', \n",
        "                  a_favor='posse', descricao_a_favor='Posse de Bola - Casa',\n",
        "                  numero_jogos=n_rodadas)"
      ],
      "execution_count": 59,
      "outputs": [
        {
          "output_type": "execute_result",
          "data": {
            "text/html": [
              "<div>\n",
              "<style scoped>\n",
              "    .dataframe tbody tr th:only-of-type {\n",
              "        vertical-align: middle;\n",
              "    }\n",
              "\n",
              "    .dataframe tbody tr th {\n",
              "        vertical-align: top;\n",
              "    }\n",
              "\n",
              "    .dataframe thead th {\n",
              "        text-align: right;\n",
              "    }\n",
              "</style>\n",
              "<table border=\"1\" class=\"dataframe\">\n",
              "  <thead>\n",
              "    <tr style=\"text-align: right;\">\n",
              "      <th></th>\n",
              "      <th>Posse de Bola - Casa</th>\n",
              "    </tr>\n",
              "    <tr>\n",
              "      <th>Inter de Milão - Últimos 23 jogos</th>\n",
              "      <th></th>\n",
              "    </tr>\n",
              "  </thead>\n",
              "  <tbody>\n",
              "    <tr>\n",
              "      <th>Média</th>\n",
              "      <td>51.7</td>\n",
              "    </tr>\n",
              "    <tr>\n",
              "      <th>Mediana</th>\n",
              "      <td>50.0</td>\n",
              "    </tr>\n",
              "    <tr>\n",
              "      <th>Moda</th>\n",
              "      <td>35.0</td>\n",
              "    </tr>\n",
              "    <tr>\n",
              "      <th>Desvio Padrão</th>\n",
              "      <td>10.8</td>\n",
              "    </tr>\n",
              "  </tbody>\n",
              "</table>\n",
              "</div>"
            ],
            "text/plain": [
              "                                           Posse de Bola - Casa\n",
              "\\n  Inter de Milão - Últimos 23 jogos\\n                        \n",
              "Média                                                      51.7\n",
              "Mediana                                                    50.0\n",
              "Moda                                                       35.0\n",
              "Desvio Padrão                                              10.8"
            ]
          },
          "metadata": {
            "tags": []
          },
          "execution_count": 59
        }
      ]
    },
    {
      "cell_type": "code",
      "metadata": {
        "colab": {
          "base_uri": "https://localhost:8080/",
          "height": 202
        },
        "id": "Dm4thrd5uNJg",
        "outputId": "4c480a77-14a1-49cf-9bfd-d8dea14d9cce"
      },
      "source": [
        "tendencia_central_2(rodadas_inter_milao_liga.query('visitante == 1'), 'Inter de Milão', \n",
        "                  a_favor='posse', descricao_a_favor='Posse de Bola - Fora',\n",
        "                  numero_jogos=n_rodadas)"
      ],
      "execution_count": 60,
      "outputs": [
        {
          "output_type": "execute_result",
          "data": {
            "text/html": [
              "<div>\n",
              "<style scoped>\n",
              "    .dataframe tbody tr th:only-of-type {\n",
              "        vertical-align: middle;\n",
              "    }\n",
              "\n",
              "    .dataframe tbody tr th {\n",
              "        vertical-align: top;\n",
              "    }\n",
              "\n",
              "    .dataframe thead th {\n",
              "        text-align: right;\n",
              "    }\n",
              "</style>\n",
              "<table border=\"1\" class=\"dataframe\">\n",
              "  <thead>\n",
              "    <tr style=\"text-align: right;\">\n",
              "      <th></th>\n",
              "      <th>Posse de Bola - Fora</th>\n",
              "    </tr>\n",
              "    <tr>\n",
              "      <th>Inter de Milão - Últimos 23 jogos</th>\n",
              "      <th></th>\n",
              "    </tr>\n",
              "  </thead>\n",
              "  <tbody>\n",
              "    <tr>\n",
              "      <th>Média</th>\n",
              "      <td>54.6</td>\n",
              "    </tr>\n",
              "    <tr>\n",
              "      <th>Mediana</th>\n",
              "      <td>59.0</td>\n",
              "    </tr>\n",
              "    <tr>\n",
              "      <th>Moda</th>\n",
              "      <td>60.0</td>\n",
              "    </tr>\n",
              "    <tr>\n",
              "      <th>Desvio Padrão</th>\n",
              "      <td>9.8</td>\n",
              "    </tr>\n",
              "  </tbody>\n",
              "</table>\n",
              "</div>"
            ],
            "text/plain": [
              "                                           Posse de Bola - Fora\n",
              "\\n  Inter de Milão - Últimos 23 jogos\\n                        \n",
              "Média                                                      54.6\n",
              "Mediana                                                    59.0\n",
              "Moda                                                       60.0\n",
              "Desvio Padrão                                               9.8"
            ]
          },
          "metadata": {
            "tags": []
          },
          "execution_count": 60
        }
      ]
    },
    {
      "cell_type": "code",
      "metadata": {
        "colab": {
          "base_uri": "https://localhost:8080/",
          "height": 202
        },
        "id": "V5fupPh2vZDF",
        "outputId": "20844370-4018-4e5d-9261-494a94314c03"
      },
      "source": [
        "tendencia_central_2(rodadas_inter_milao_liga.query('visitante == 0'), 'Inter de Milão', \n",
        "                  a_favor='gols_marcados', descricao_a_favor='Gols Marcados - Casa',\n",
        "                  numero_jogos=n_rodadas)"
      ],
      "execution_count": 61,
      "outputs": [
        {
          "output_type": "execute_result",
          "data": {
            "text/html": [
              "<div>\n",
              "<style scoped>\n",
              "    .dataframe tbody tr th:only-of-type {\n",
              "        vertical-align: middle;\n",
              "    }\n",
              "\n",
              "    .dataframe tbody tr th {\n",
              "        vertical-align: top;\n",
              "    }\n",
              "\n",
              "    .dataframe thead th {\n",
              "        text-align: right;\n",
              "    }\n",
              "</style>\n",
              "<table border=\"1\" class=\"dataframe\">\n",
              "  <thead>\n",
              "    <tr style=\"text-align: right;\">\n",
              "      <th></th>\n",
              "      <th>Gols Marcados - Casa</th>\n",
              "    </tr>\n",
              "    <tr>\n",
              "      <th>Inter de Milão - Últimos 23 jogos</th>\n",
              "      <th></th>\n",
              "    </tr>\n",
              "  </thead>\n",
              "  <tbody>\n",
              "    <tr>\n",
              "      <th>Média</th>\n",
              "      <td>2.9</td>\n",
              "    </tr>\n",
              "    <tr>\n",
              "      <th>Mediana</th>\n",
              "      <td>3.0</td>\n",
              "    </tr>\n",
              "    <tr>\n",
              "      <th>Moda</th>\n",
              "      <td>2.0</td>\n",
              "    </tr>\n",
              "    <tr>\n",
              "      <th>Desvio Padrão</th>\n",
              "      <td>1.5</td>\n",
              "    </tr>\n",
              "  </tbody>\n",
              "</table>\n",
              "</div>"
            ],
            "text/plain": [
              "                                           Gols Marcados - Casa\n",
              "\\n  Inter de Milão - Últimos 23 jogos\\n                        \n",
              "Média                                                       2.9\n",
              "Mediana                                                     3.0\n",
              "Moda                                                        2.0\n",
              "Desvio Padrão                                               1.5"
            ]
          },
          "metadata": {
            "tags": []
          },
          "execution_count": 61
        }
      ]
    },
    {
      "cell_type": "code",
      "metadata": {
        "colab": {
          "base_uri": "https://localhost:8080/",
          "height": 202
        },
        "id": "JIZASGfCvOu9",
        "outputId": "90123652-4ef6-4845-d187-fbadbfb2b0dd"
      },
      "source": [
        "tendencia_central_2(rodadas_inter_milao_liga.query('visitante == 1'), 'Inter de Milão', \n",
        "                  a_favor='gols_marcados', descricao_a_favor='Gols Marcados - Fora',\n",
        "                  numero_jogos=n_rodadas)"
      ],
      "execution_count": 62,
      "outputs": [
        {
          "output_type": "execute_result",
          "data": {
            "text/html": [
              "<div>\n",
              "<style scoped>\n",
              "    .dataframe tbody tr th:only-of-type {\n",
              "        vertical-align: middle;\n",
              "    }\n",
              "\n",
              "    .dataframe tbody tr th {\n",
              "        vertical-align: top;\n",
              "    }\n",
              "\n",
              "    .dataframe thead th {\n",
              "        text-align: right;\n",
              "    }\n",
              "</style>\n",
              "<table border=\"1\" class=\"dataframe\">\n",
              "  <thead>\n",
              "    <tr style=\"text-align: right;\">\n",
              "      <th></th>\n",
              "      <th>Gols Marcados - Fora</th>\n",
              "    </tr>\n",
              "    <tr>\n",
              "      <th>Inter de Milão - Últimos 23 jogos</th>\n",
              "      <th></th>\n",
              "    </tr>\n",
              "  </thead>\n",
              "  <tbody>\n",
              "    <tr>\n",
              "      <th>Média</th>\n",
              "      <td>2.1</td>\n",
              "    </tr>\n",
              "    <tr>\n",
              "      <th>Mediana</th>\n",
              "      <td>2.0</td>\n",
              "    </tr>\n",
              "    <tr>\n",
              "      <th>Moda</th>\n",
              "      <td>2.0</td>\n",
              "    </tr>\n",
              "    <tr>\n",
              "      <th>Desvio Padrão</th>\n",
              "      <td>1.3</td>\n",
              "    </tr>\n",
              "  </tbody>\n",
              "</table>\n",
              "</div>"
            ],
            "text/plain": [
              "                                           Gols Marcados - Fora\n",
              "\\n  Inter de Milão - Últimos 23 jogos\\n                        \n",
              "Média                                                       2.1\n",
              "Mediana                                                     2.0\n",
              "Moda                                                        2.0\n",
              "Desvio Padrão                                               1.3"
            ]
          },
          "metadata": {
            "tags": []
          },
          "execution_count": 62
        }
      ]
    },
    {
      "cell_type": "markdown",
      "metadata": {
        "id": "wTqLD94dgMFl"
      },
      "source": [
        "## 5.3 Correlação e Autocorrelação"
      ]
    },
    {
      "cell_type": "code",
      "metadata": {
        "colab": {
          "base_uri": "https://localhost:8080/",
          "height": 547
        },
        "id": "lg-oYOCjhFRe",
        "outputId": "131b9dab-29ef-4238-fcca-790467d1d4fe"
      },
      "source": [
        "#Criar máscara para recortar o mapa de correlação\n",
        "mask = np.zeros_like(rodadas_inter_milao_liga.corr())\n",
        "mask[np.triu_indices_from(mask)] = True\n",
        "\n",
        "# Plota o mapa de correlação\n",
        "plt.figure(figsize=(8, 7))\n",
        "sns.heatmap(rodadas_inter_milao_liga.corr(), cmap='Blues', annot=True, mask=mask,\n",
        "            center=0)\n",
        "plt.title('Mapa de Correlação - Inter de Milão', fontsize=20)"
      ],
      "execution_count": 63,
      "outputs": [
        {
          "output_type": "execute_result",
          "data": {
            "text/plain": [
              "Text(0.5, 1.0, 'Mapa de Correlação - Inter de Milão')"
            ]
          },
          "metadata": {
            "tags": []
          },
          "execution_count": 63
        },
        {
          "output_type": "display_data",
          "data": {
            "image/png": "[encoded data removed]",
            "text/plain": [
              "<Figure size 576x504 with 2 Axes>"
            ]
          },
          "metadata": {
            "tags": []
          }
        }
      ]
    },
    {
      "cell_type": "markdown",
      "metadata": {
        "id": "mbxDrX0ritwr"
      },
      "source": [
        "Correlação positiva: Gols marcados e vitórias\n",
        "\n",
        "Não há correlação entre a posse de bola e o resultado da partida considerando todo o histórico"
      ]
    },
    {
      "cell_type": "code",
      "metadata": {
        "colab": {
          "base_uri": "https://localhost:8080/",
          "height": 333
        },
        "id": "Q7qNWY-VSqH-",
        "outputId": "f48d1f4b-c277-43da-fde4-e973c47fd0be"
      },
      "source": [
        "plot_acf(rodadas_inter_milao_liga['gols_marcados'])\n",
        "personaliza_grafico('Autocorrelação Gols Marcados', 'Partidas', 'Autocorrelação')"
      ],
      "execution_count": 64,
      "outputs": [
        {
          "output_type": "display_data",
          "data": {
            "image/png": "[encoded data removed]",
            "text/plain": [
              "<Figure size 432x288 with 1 Axes>"
            ]
          },
          "metadata": {
            "tags": []
          }
        }
      ]
    },
    {
      "cell_type": "code",
      "metadata": {
        "colab": {
          "base_uri": "https://localhost:8080/",
          "height": 333
        },
        "id": "aHRC0CnFYl1C",
        "outputId": "df5da2bc-9c87-400e-e9b4-5b500118d1a7"
      },
      "source": [
        "plot_acf(rodadas_inter_milao_liga['gols_sofridos'])\n",
        "personaliza_grafico('Autocorrelação Gols Sofridos', 'Partidas', 'Autocorrelação')"
      ],
      "execution_count": 65,
      "outputs": [
        {
          "output_type": "display_data",
          "data": {
            "image/png": "[encoded data removed]",
            "text/plain": [
              "<Figure size 432x288 with 1 Axes>"
            ]
          },
          "metadata": {
            "tags": []
          }
        }
      ]
    },
    {
      "cell_type": "markdown",
      "metadata": {
        "id": "tZSqOYpTYqvE"
      },
      "source": [
        "O número de gols marcados e sofridos nas partidas anteriores não influencia na partidas seguintes."
      ]
    },
    {
      "source": [
        "# Gerando arquivo"
      ],
      "cell_type": "markdown",
      "metadata": {}
    },
    {
      "cell_type": "code",
      "execution_count": 31,
      "metadata": {},
      "outputs": [],
      "source": [
        "rodadas_inter_milao_liga.to_csv('../dados/rodadas_inter_milao_liga.csv')"
      ]
    },
    {
      "cell_type": "markdown",
      "metadata": {
        "id": "yu-3Tmg4QY7c"
      },
      "source": [
        "# Referências"
      ]
    },
    {
      "cell_type": "markdown",
      "metadata": {
        "id": "FFah-G_XQlaq"
      },
      "source": [
        "FBREF. Estatísticas e Histórico do Futebol. Disponível em: https://fbref.com/pt/. Acesso em:  24 Fev. 2021."
      ]
    },
    {
      "cell_type": "markdown",
      "metadata": {
        "id": "JqO0UMYGQa9p"
      },
      "source": [
        "\r\n",
        "\r\n",
        "---\r\n",
        "\r\n"
      ]
    }
  ]
}