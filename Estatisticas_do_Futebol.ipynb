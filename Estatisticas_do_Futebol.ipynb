{
  "nbformat": 4,
  "nbformat_minor": 0,
  "metadata": {
    "colab": {
      "name": "Estatisticas do Futebol.ipynb",
      "provenance": [],
      "collapsed_sections": [
        "b_9IY-sFUs8c",
        "Cn1gt552ORZy",
        "KM70qCti420w",
        "2gKv9XyBVngk",
        "4ZrVneB6aOw4",
        "SZrF386off3m",
        "MeYXx31GYLfd"
      ],
      "toc_visible": true,
      "authorship_tag": "ABX9TyNGUjyqituyQePXskpxA2Rx",
      "include_colab_link": true
    },
    "kernelspec": {
      "display_name": "Python 3",
      "name": "python3"
    }
  },
  "cells": [
    {
      "cell_type": "markdown",
      "metadata": {
        "id": "view-in-github",
        "colab_type": "text"
      },
      "source": [
        "<a href=\"https://colab.research.google.com/github/MarcosRMG/Estatisticas-de-Futebol/blob/main/Estatisticas_do_Futebol.ipynb\" target=\"_parent\"><img src=\"https://colab.research.google.com/assets/colab-badge.svg\" alt=\"Open In Colab\"/></a>"
      ]
    },
    {
      "cell_type": "markdown",
      "metadata": {
        "id": "UFz9SEeadkfD"
      },
      "source": [
        "# 1 Bibliotecas"
      ]
    },
    {
      "cell_type": "code",
      "metadata": {
        "id": "SuPpMiUWuiio"
      },
      "source": [
        "#!pip install --upgrade pandas"
      ],
      "execution_count": 1,
      "outputs": []
    },
    {
      "cell_type": "code",
      "metadata": {
        "id": "V_yzlQMSvkSG"
      },
      "source": [
        "#!pip install --upgrade pandas_profiling"
      ],
      "execution_count": 2,
      "outputs": []
    },
    {
      "cell_type": "code",
      "metadata": {
        "id": "K_jR4Mv0i1qm"
      },
      "source": [
        "#!pip install category_encoders"
      ],
      "execution_count": 3,
      "outputs": []
    },
    {
      "cell_type": "code",
      "metadata": {
        "id": "X9sfyaS8doVM"
      },
      "source": [
        "# Leitura e tratamento dos dados\n",
        "import pandas as pd\n",
        "import numpy as np\n",
        "\n",
        "# Visualização de dados\n",
        "import matplotlib.pyplot as plt\n",
        "import seaborn as sns\n",
        "import matplotlib\n",
        "from pandas_profiling import ProfileReport\n",
        "from sklearn.tree import plot_tree\n",
        "\n",
        "# Modelos de Machine Learning\n",
        "from sklearn.tree import DecisionTreeClassifier\n",
        "from sklearn.ensemble import RandomForestClassifier\n",
        "\n",
        "# Métodos de extratificação dos dados\n",
        "from sklearn.model_selection import train_test_split\n",
        "from sklearn.model_selection import RepeatedStratifiedKFold\n",
        "from sklearn.model_selection import cross_validate\n",
        "from sklearn.model_selection import GroupKFold\n",
        "from sklearn import tree\n",
        "\n",
        "# Métricas \n",
        "from sklearn import metrics\n",
        "\n",
        "# Preprocessamento\n",
        "from sklearn.preprocessing import MinMaxScaler\n",
        "from sklearn.preprocessing import MaxAbsScaler\n",
        "from sklearn.preprocessing import OneHotEncoder\n",
        "\n",
        "# Seleção de parâmetros\n",
        "from sklearn.model_selection import GridSearchCV\n",
        "\n",
        "# Pipeline\n",
        "from sklearn.pipeline import Pipeline\n",
        "\n",
        "#Outroas\n",
        "import pickle"
      ],
      "execution_count": 4,
      "outputs": []
    },
    {
      "cell_type": "code",
      "metadata": {
        "id": "wRpKrbwhThvD"
      },
      "source": [
        "# Personaliza visualizações\n",
        "matplotlib.rcParams['font.size'] = 12\n",
        "matplotlib.rcParams['figure.figsize'] = [16, 8]\n",
        "sns.set_style(style='darkgrid')"
      ],
      "execution_count": 5,
      "outputs": []
    },
    {
      "cell_type": "markdown",
      "metadata": {
        "id": "b_9IY-sFUs8c"
      },
      "source": [
        "# 2 Funções"
      ]
    },
    {
      "cell_type": "markdown",
      "metadata": {
        "id": "Cn1gt552ORZy"
      },
      "source": [
        "## 2.1 Remove variáveis correlacionadas"
      ]
    },
    {
      "cell_type": "code",
      "metadata": {
        "id": "cH9s9CArOWcz"
      },
      "source": [
        "def remove_variaveis_correlacionadas(dados: pd.DataFrame):\n",
        "  '''\n",
        "  --> Remove as colunas com correlação igual ou maior que 0.95\n",
        "\n",
        "  :param dados: DataFrame para excluir a coluna com alta correlação\n",
        "  '''\n",
        "  alta_corr = .95\n",
        "  matriz_corr = dados.corr().abs()\n",
        "  matriz_corr_superior = matriz_corr.where(np.triu(np.ones(matriz_corr.shape).astype(np.bool), k=1))\n",
        "  excluir = [coluna for coluna in matriz_corr_superior.columns if any(matriz_corr_superior[coluna] > alta_corr)]\n",
        "  dados.drop(excluir, axis=1, inplace=True)\n",
        "  print('Variáveis escluídas: ', excluir)"
      ],
      "execution_count": 6,
      "outputs": []
    },
    {
      "cell_type": "markdown",
      "metadata": {
        "id": "KM70qCti420w"
      },
      "source": [
        "## 2.2 Roda modelo com validação cruzada"
      ]
    },
    {
      "cell_type": "code",
      "metadata": {
        "id": "PrPANiMm43lo"
      },
      "source": [
        "def roda_modelo_cv(dados: pd.DataFrame, y='resultado', \n",
        "                x_drop=['clube', 'data', 'rodada', 'oponente', 'resultado'],\n",
        "                modelo=DecisionTreeClassifier(), n_splits=5, n_repeats=10,\n",
        "                descricao_modelo='Decision Tree Classifier'):\n",
        "  '''\n",
        "  Realiza a validação cruzada\n",
        "\n",
        "  Keyword arguments\n",
        "  dados: DataFrame com as informações para treino e teste\n",
        "  y: Coluna do DataFrame atribuída a variável y\n",
        "  x_drop: Colunas do DataFrame que devem ser desconsidradas na variável x\n",
        "  modelo: Modelo para classificação\n",
        "  n_splits: Número de partes que o DataFrame será divido para validação \n",
        "  n_repeats: Número de vezes que o modelo será treinado\n",
        "  descricao_modelo: Descrição do modelo utilizado\n",
        "\n",
        "  return: Média do auc de teste e de treino\n",
        "  '''\n",
        "  \n",
        "  np.random.seed(723)\n",
        "  dados = dados.sample(frac=1).reset_index(drop=True)\n",
        "\n",
        "  y = dados[y]\n",
        "  x = dados.drop(x_drop, axis=1)\n",
        "  ohe = OneHotEncoder(handle_unknown='ignore')\n",
        "  x = ohe.fit_transform(x)\n",
        "  scaler = MaxAbsScaler().fit(x)\n",
        "  x = scaler.transform(x)\n",
        "\n",
        "  modelo = modelo\n",
        "  \n",
        "  cv = RepeatedStratifiedKFold(n_splits=n_splits, n_repeats=n_repeats)\n",
        "  resultado = cross_validate(modelo, x, y, cv=cv, scoring='accuracy', \n",
        "                             return_train_score=True)\n",
        "\n",
        "  media_teste = np.mean(resultado['test_score'])\n",
        "  media_treino = np.mean(resultado['train_score'])\n",
        "\n",
        "  print(f'Acurácia teste/ treino: {media_teste:.2f} - {media_treino:.2f}')\n",
        "  return media_teste, media_treino"
      ],
      "execution_count": 7,
      "outputs": []
    },
    {
      "cell_type": "markdown",
      "metadata": {
        "id": "2gKv9XyBVngk"
      },
      "source": [
        "## 2.3 Plota curva auc"
      ]
    },
    {
      "cell_type": "code",
      "metadata": {
        "id": "4-I5GYydVdp5"
      },
      "source": [
        "def curva_acuracia(media_teste: list(), media_treino: list(), descricao_modelo: str, \n",
        "              n_repeats_x=10):\n",
        "  '''\n",
        "  Plota o gráfico com o resultado de AUC de treino e teste\n",
        "\n",
        "  Keyword arguments\n",
        "  n_repeats_x: Número de repetições do modelo\n",
        "  media_treino: Resultado médio do AUC de treino\n",
        "  descricao_modelo: Descrição do modelo utilizado\n",
        "  '''\n",
        "  x = range(1, n_repeats_x)\n",
        "  plt.figure(figsize=(16, 8))\n",
        "  plt.plot(x, media_teste, label='Acurácia Teste', )\n",
        "  plt.plot(x, media_treino, label='Acurácia Treino')\n",
        "  plt.title(descricao_modelo, loc='left', fontsize=24)\n",
        "  plt.legend();"
      ],
      "execution_count": 8,
      "outputs": []
    },
    {
      "cell_type": "markdown",
      "metadata": {
        "id": "4ZrVneB6aOw4"
      },
      "source": [
        "## 2.4 Personaliza gráfico"
      ]
    },
    {
      "cell_type": "code",
      "metadata": {
        "id": "H-D21ETKaRHo"
      },
      "source": [
        "def personaliza_grafico(titulo:str, x_label: str, y_label: str):\n",
        "  '''\n",
        "  Define as informações descritivas do gráfico\n",
        "\n",
        "  Keywords arguments\n",
        "  titulo: Título do gráfico\n",
        "  x_label: Descrição do eixo x do gráfico\n",
        "  y_label: Descrição do eixo y do gráfico\n",
        "  '''\n",
        "  plt.title(titulo, loc='left', fontsize=24)\n",
        "  plt.xlabel(x_label, fontsize=18)\n",
        "  plt.ylabel(y_label, fontsize=18);"
      ],
      "execution_count": 9,
      "outputs": []
    },
    {
      "cell_type": "markdown",
      "metadata": {
        "id": "4bB3nFhofdM6"
      },
      "source": [
        "# 3 Dados"
      ]
    },
    {
      "cell_type": "code",
      "metadata": {
        "id": "E_R5-lF3c96C"
      },
      "source": [
        "fonte_liga_italiana = 'https://raw.githubusercontent.com/MarcosRMG/Estatisticas-de-Futebol/main/dados/italiano/rodadas_liga.csv'\n",
        "fonte_bundesliga = 'https://raw.githubusercontent.com/MarcosRMG/Estatisticas-de-Futebol/main/dados/bundesliga/rodadas_liga.csv'\n",
        "fonte_franca = 'https://raw.githubusercontent.com/MarcosRMG/Estatisticas-de-Futebol/main/dados/franca/rodadas_liga.csv'\n",
        "fonte_la_liga = 'https://raw.githubusercontent.com/MarcosRMG/Estatisticas-de-Futebol/main/dados/la_liga/rodadas_liga.csv'\n",
        "fonte_premier_league = 'https://raw.githubusercontent.com/MarcosRMG/Estatisticas-de-Futebol/main/dados/premier_league/rodadas_liga.csv'"
      ],
      "execution_count": 10,
      "outputs": []
    },
    {
      "cell_type": "code",
      "metadata": {
        "id": "kX5q8OUoVfYo"
      },
      "source": [
        "liga_italiana = pd.read_csv(fonte_liga_italiana).iloc[:, 1:-1]\n",
        "bundesliga = pd.read_csv(fonte_bundesliga).iloc[:, 1:-1]\n",
        "franca = pd.read_csv(fonte_franca).iloc[:, 1:-1]\n",
        "la_liga = pd.read_csv(fonte_la_liga).iloc[:, 1:-1]\n",
        "premier = pd.read_csv(fonte_premier_league).iloc[:, 1:-1]\n",
        "todas_ligas = pd.concat([liga_italiana, bundesliga, franca, la_liga, premier])"
      ],
      "execution_count": 11,
      "outputs": []
    },
    {
      "cell_type": "code",
      "metadata": {
        "colab": {
          "base_uri": "https://localhost:8080/",
          "height": 299
        },
        "id": "aom7TWJKLHa5",
        "outputId": "02b01a1a-4d2d-41b1-e0da-50671cf7ab67"
      },
      "source": [
        "todas_ligas.head()"
      ],
      "execution_count": 12,
      "outputs": [
        {
          "output_type": "execute_result",
          "data": {
            "text/html": [
              "<div>\n",
              "<style scoped>\n",
              "    .dataframe tbody tr th:only-of-type {\n",
              "        vertical-align: middle;\n",
              "    }\n",
              "\n",
              "    .dataframe tbody tr th {\n",
              "        vertical-align: top;\n",
              "    }\n",
              "\n",
              "    .dataframe thead th {\n",
              "        text-align: right;\n",
              "    }\n",
              "</style>\n",
              "<table border=\"1\" class=\"dataframe\">\n",
              "  <thead>\n",
              "    <tr style=\"text-align: right;\">\n",
              "      <th></th>\n",
              "      <th>clube</th>\n",
              "      <th>data</th>\n",
              "      <th>rodada</th>\n",
              "      <th>local</th>\n",
              "      <th>resultado</th>\n",
              "      <th>gols_marcados</th>\n",
              "      <th>gols_sofridos</th>\n",
              "      <th>oponente</th>\n",
              "      <th>posse</th>\n",
              "      <th>gols_partida</th>\n",
              "      <th>escanteios</th>\n",
              "      <th>passes_certos_%</th>\n",
              "      <th>total_chutes</th>\n",
              "      <th>chutes_a_gol_%</th>\n",
              "      <th>chutes_por_gol</th>\n",
              "      <th>cartoes_amarelos</th>\n",
              "      <th>cartoes_vermelhos</th>\n",
              "      <th>faltas_cometidas</th>\n",
              "      <th>cartoes_total</th>\n",
              "      <th>chutes_contra_o_gol</th>\n",
              "      <th>defesas_%</th>\n",
              "      <th>sem_vazamento</th>\n",
              "    </tr>\n",
              "  </thead>\n",
              "  <tbody>\n",
              "    <tr>\n",
              "      <th>0</th>\n",
              "      <td>Inter</td>\n",
              "      <td>2021-03-14</td>\n",
              "      <td>27</td>\n",
              "      <td>Visitante</td>\n",
              "      <td>V</td>\n",
              "      <td>2.0</td>\n",
              "      <td>1.0</td>\n",
              "      <td>Torino</td>\n",
              "      <td>68.0</td>\n",
              "      <td>3.0</td>\n",
              "      <td>8.0</td>\n",
              "      <td>87.7</td>\n",
              "      <td>12</td>\n",
              "      <td>16.7</td>\n",
              "      <td>6.0</td>\n",
              "      <td>1</td>\n",
              "      <td>0</td>\n",
              "      <td>12</td>\n",
              "      <td>1</td>\n",
              "      <td>3</td>\n",
              "      <td>66.7</td>\n",
              "      <td>0</td>\n",
              "    </tr>\n",
              "    <tr>\n",
              "      <th>1</th>\n",
              "      <td>Inter</td>\n",
              "      <td>2021-03-08</td>\n",
              "      <td>26</td>\n",
              "      <td>Em casa</td>\n",
              "      <td>V</td>\n",
              "      <td>1.0</td>\n",
              "      <td>0.0</td>\n",
              "      <td>Atalanta</td>\n",
              "      <td>45.0</td>\n",
              "      <td>1.0</td>\n",
              "      <td>7.0</td>\n",
              "      <td>80.4</td>\n",
              "      <td>5</td>\n",
              "      <td>20.0</td>\n",
              "      <td>5.0</td>\n",
              "      <td>0</td>\n",
              "      <td>0</td>\n",
              "      <td>17</td>\n",
              "      <td>0</td>\n",
              "      <td>2</td>\n",
              "      <td>100.0</td>\n",
              "      <td>1</td>\n",
              "    </tr>\n",
              "    <tr>\n",
              "      <th>2</th>\n",
              "      <td>Inter</td>\n",
              "      <td>2021-03-04</td>\n",
              "      <td>25</td>\n",
              "      <td>Visitante</td>\n",
              "      <td>V</td>\n",
              "      <td>2.0</td>\n",
              "      <td>1.0</td>\n",
              "      <td>Parma</td>\n",
              "      <td>48.0</td>\n",
              "      <td>3.0</td>\n",
              "      <td>2.0</td>\n",
              "      <td>86.1</td>\n",
              "      <td>12</td>\n",
              "      <td>50.0</td>\n",
              "      <td>6.0</td>\n",
              "      <td>1</td>\n",
              "      <td>0</td>\n",
              "      <td>11</td>\n",
              "      <td>1</td>\n",
              "      <td>2</td>\n",
              "      <td>50.0</td>\n",
              "      <td>0</td>\n",
              "    </tr>\n",
              "    <tr>\n",
              "      <th>3</th>\n",
              "      <td>Inter</td>\n",
              "      <td>2021-02-28</td>\n",
              "      <td>24</td>\n",
              "      <td>Em casa</td>\n",
              "      <td>V</td>\n",
              "      <td>3.0</td>\n",
              "      <td>0.0</td>\n",
              "      <td>Genoa</td>\n",
              "      <td>51.0</td>\n",
              "      <td>3.0</td>\n",
              "      <td>9.0</td>\n",
              "      <td>87.4</td>\n",
              "      <td>24</td>\n",
              "      <td>50.0</td>\n",
              "      <td>8.0</td>\n",
              "      <td>0</td>\n",
              "      <td>0</td>\n",
              "      <td>13</td>\n",
              "      <td>0</td>\n",
              "      <td>2</td>\n",
              "      <td>100.0</td>\n",
              "      <td>1</td>\n",
              "    </tr>\n",
              "    <tr>\n",
              "      <th>4</th>\n",
              "      <td>Inter</td>\n",
              "      <td>2021-02-21</td>\n",
              "      <td>23</td>\n",
              "      <td>Visitante</td>\n",
              "      <td>V</td>\n",
              "      <td>3.0</td>\n",
              "      <td>0.0</td>\n",
              "      <td>Milan</td>\n",
              "      <td>40.0</td>\n",
              "      <td>3.0</td>\n",
              "      <td>7.0</td>\n",
              "      <td>81.1</td>\n",
              "      <td>15</td>\n",
              "      <td>40.0</td>\n",
              "      <td>5.0</td>\n",
              "      <td>1</td>\n",
              "      <td>0</td>\n",
              "      <td>10</td>\n",
              "      <td>1</td>\n",
              "      <td>8</td>\n",
              "      <td>100.0</td>\n",
              "      <td>1</td>\n",
              "    </tr>\n",
              "  </tbody>\n",
              "</table>\n",
              "</div>"
            ],
            "text/plain": [
              "   clube        data  rodada  ... chutes_contra_o_gol defesas_%  sem_vazamento\n",
              "0  Inter  2021-03-14      27  ...                   3      66.7              0\n",
              "1  Inter  2021-03-08      26  ...                   2     100.0              1\n",
              "2  Inter  2021-03-04      25  ...                   2      50.0              0\n",
              "3  Inter  2021-02-28      24  ...                   2     100.0              1\n",
              "4  Inter  2021-02-21      23  ...                   8     100.0              1\n",
              "\n",
              "[5 rows x 22 columns]"
            ]
          },
          "metadata": {
            "tags": []
          },
          "execution_count": 12
        }
      ]
    },
    {
      "cell_type": "code",
      "metadata": {
        "colab": {
          "base_uri": "https://localhost:8080/"
        },
        "id": "BK5rRNQdLl3c",
        "outputId": "51e01bd2-13ff-4a40-c3a4-b2d9181d8dbd"
      },
      "source": [
        "todas_ligas.shape"
      ],
      "execution_count": 13,
      "outputs": [
        {
          "output_type": "execute_result",
          "data": {
            "text/plain": [
              "(2681, 22)"
            ]
          },
          "metadata": {
            "tags": []
          },
          "execution_count": 13
        }
      ]
    },
    {
      "cell_type": "code",
      "metadata": {
        "colab": {
          "base_uri": "https://localhost:8080/"
        },
        "id": "PjYB-xkpRpCr",
        "outputId": "6056a9a1-d735-4100-dea7-2df60984adb9"
      },
      "source": [
        "todas_ligas.info()"
      ],
      "execution_count": 14,
      "outputs": [
        {
          "output_type": "stream",
          "text": [
            "<class 'pandas.core.frame.DataFrame'>\n",
            "Int64Index: 2681 entries, 0 to 572\n",
            "Data columns (total 22 columns):\n",
            " #   Column               Non-Null Count  Dtype  \n",
            "---  ------               --------------  -----  \n",
            " 0   clube                2681 non-null   object \n",
            " 1   data                 2681 non-null   object \n",
            " 2   rodada               2681 non-null   int64  \n",
            " 3   local                2681 non-null   object \n",
            " 4   resultado            2681 non-null   object \n",
            " 5   gols_marcados        2681 non-null   float64\n",
            " 6   gols_sofridos        2681 non-null   float64\n",
            " 7   oponente             2681 non-null   object \n",
            " 8   posse                2681 non-null   float64\n",
            " 9   gols_partida         2681 non-null   float64\n",
            " 10  escanteios           2681 non-null   float64\n",
            " 11  passes_certos_%      2681 non-null   float64\n",
            " 12  total_chutes         2681 non-null   int64  \n",
            " 13  chutes_a_gol_%       2681 non-null   float64\n",
            " 14  chutes_por_gol       2681 non-null   float64\n",
            " 15  cartoes_amarelos     2681 non-null   int64  \n",
            " 16  cartoes_vermelhos    2681 non-null   int64  \n",
            " 17  faltas_cometidas     2681 non-null   int64  \n",
            " 18  cartoes_total        2681 non-null   int64  \n",
            " 19  chutes_contra_o_gol  2681 non-null   int64  \n",
            " 20  defesas_%            2585 non-null   float64\n",
            " 21  sem_vazamento        2681 non-null   int64  \n",
            "dtypes: float64(9), int64(8), object(5)\n",
            "memory usage: 481.7+ KB\n"
          ],
          "name": "stdout"
        }
      ]
    },
    {
      "cell_type": "code",
      "metadata": {
        "colab": {
          "base_uri": "https://localhost:8080/"
        },
        "id": "OkRccQUSjX63",
        "outputId": "a543823b-566b-4a3c-c06a-4fc4bd95aca1"
      },
      "source": [
        "# Os valores NaN em defesas_% ocorrem quando não houve chute ao gol\n",
        "todas_ligas.isna().sum()"
      ],
      "execution_count": 15,
      "outputs": [
        {
          "output_type": "execute_result",
          "data": {
            "text/plain": [
              "clube                   0\n",
              "data                    0\n",
              "rodada                  0\n",
              "local                   0\n",
              "resultado               0\n",
              "gols_marcados           0\n",
              "gols_sofridos           0\n",
              "oponente                0\n",
              "posse                   0\n",
              "gols_partida            0\n",
              "escanteios              0\n",
              "passes_certos_%         0\n",
              "total_chutes            0\n",
              "chutes_a_gol_%          0\n",
              "chutes_por_gol          0\n",
              "cartoes_amarelos        0\n",
              "cartoes_vermelhos       0\n",
              "faltas_cometidas        0\n",
              "cartoes_total           0\n",
              "chutes_contra_o_gol     0\n",
              "defesas_%              96\n",
              "sem_vazamento           0\n",
              "dtype: int64"
            ]
          },
          "metadata": {
            "tags": []
          },
          "execution_count": 15
        }
      ]
    },
    {
      "cell_type": "code",
      "metadata": {
        "id": "CsDRSToMerqO"
      },
      "source": [
        "# O preenchimento de 100 considera que o sistema defensivo funcionou mesmo não \n",
        "# havendo chute pelo adversário\n",
        "todas_ligas.fillna(100, inplace=True)"
      ],
      "execution_count": 16,
      "outputs": []
    },
    {
      "cell_type": "markdown",
      "metadata": {
        "id": "SZrF386off3m"
      },
      "source": [
        "# 4 Análise Exploratória"
      ]
    },
    {
      "cell_type": "code",
      "metadata": {
        "id": "ItGJV2uHgEby",
        "colab": {
          "base_uri": "https://localhost:8080/",
          "height": 0
        },
        "outputId": "63bb6573-ada4-49a4-ab85-94488d1d92bb"
      },
      "source": [
        "todas_ligas.describe().round(2)"
      ],
      "execution_count": 17,
      "outputs": [
        {
          "output_type": "execute_result",
          "data": {
            "text/html": [
              "<div>\n",
              "<style scoped>\n",
              "    .dataframe tbody tr th:only-of-type {\n",
              "        vertical-align: middle;\n",
              "    }\n",
              "\n",
              "    .dataframe tbody tr th {\n",
              "        vertical-align: top;\n",
              "    }\n",
              "\n",
              "    .dataframe thead th {\n",
              "        text-align: right;\n",
              "    }\n",
              "</style>\n",
              "<table border=\"1\" class=\"dataframe\">\n",
              "  <thead>\n",
              "    <tr style=\"text-align: right;\">\n",
              "      <th></th>\n",
              "      <th>rodada</th>\n",
              "      <th>gols_marcados</th>\n",
              "      <th>gols_sofridos</th>\n",
              "      <th>posse</th>\n",
              "      <th>gols_partida</th>\n",
              "      <th>escanteios</th>\n",
              "      <th>passes_certos_%</th>\n",
              "      <th>total_chutes</th>\n",
              "      <th>chutes_a_gol_%</th>\n",
              "      <th>chutes_por_gol</th>\n",
              "      <th>cartoes_amarelos</th>\n",
              "      <th>cartoes_vermelhos</th>\n",
              "      <th>faltas_cometidas</th>\n",
              "      <th>cartoes_total</th>\n",
              "      <th>chutes_contra_o_gol</th>\n",
              "      <th>defesas_%</th>\n",
              "      <th>sem_vazamento</th>\n",
              "    </tr>\n",
              "  </thead>\n",
              "  <tbody>\n",
              "    <tr>\n",
              "      <th>count</th>\n",
              "      <td>2681.00</td>\n",
              "      <td>2681.00</td>\n",
              "      <td>2681.00</td>\n",
              "      <td>2681.00</td>\n",
              "      <td>2681.00</td>\n",
              "      <td>2681.00</td>\n",
              "      <td>2681.00</td>\n",
              "      <td>2681.00</td>\n",
              "      <td>2681.00</td>\n",
              "      <td>2681.00</td>\n",
              "      <td>2681.00</td>\n",
              "      <td>2681.00</td>\n",
              "      <td>2681.00</td>\n",
              "      <td>2681.00</td>\n",
              "      <td>2681.00</td>\n",
              "      <td>2681.00</td>\n",
              "      <td>2681.00</td>\n",
              "    </tr>\n",
              "    <tr>\n",
              "      <th>mean</th>\n",
              "      <td>14.28</td>\n",
              "      <td>1.38</td>\n",
              "      <td>1.37</td>\n",
              "      <td>50.02</td>\n",
              "      <td>2.75</td>\n",
              "      <td>4.73</td>\n",
              "      <td>78.60</td>\n",
              "      <td>11.55</td>\n",
              "      <td>34.31</td>\n",
              "      <td>5.93</td>\n",
              "      <td>1.97</td>\n",
              "      <td>0.09</td>\n",
              "      <td>14.35</td>\n",
              "      <td>2.05</td>\n",
              "      <td>3.90</td>\n",
              "      <td>69.24</td>\n",
              "      <td>0.27</td>\n",
              "    </tr>\n",
              "    <tr>\n",
              "      <th>std</th>\n",
              "      <td>8.01</td>\n",
              "      <td>1.23</td>\n",
              "      <td>1.23</td>\n",
              "      <td>11.31</td>\n",
              "      <td>1.66</td>\n",
              "      <td>2.80</td>\n",
              "      <td>6.86</td>\n",
              "      <td>4.99</td>\n",
              "      <td>16.44</td>\n",
              "      <td>5.42</td>\n",
              "      <td>1.32</td>\n",
              "      <td>0.30</td>\n",
              "      <td>4.16</td>\n",
              "      <td>1.41</td>\n",
              "      <td>2.33</td>\n",
              "      <td>29.05</td>\n",
              "      <td>0.44</td>\n",
              "    </tr>\n",
              "    <tr>\n",
              "      <th>min</th>\n",
              "      <td>1.00</td>\n",
              "      <td>0.00</td>\n",
              "      <td>0.00</td>\n",
              "      <td>18.00</td>\n",
              "      <td>0.00</td>\n",
              "      <td>0.00</td>\n",
              "      <td>48.80</td>\n",
              "      <td>1.00</td>\n",
              "      <td>0.00</td>\n",
              "      <td>0.00</td>\n",
              "      <td>0.00</td>\n",
              "      <td>0.00</td>\n",
              "      <td>3.00</td>\n",
              "      <td>0.00</td>\n",
              "      <td>0.00</td>\n",
              "      <td>-100.00</td>\n",
              "      <td>0.00</td>\n",
              "    </tr>\n",
              "    <tr>\n",
              "      <th>25%</th>\n",
              "      <td>7.00</td>\n",
              "      <td>0.00</td>\n",
              "      <td>0.00</td>\n",
              "      <td>42.00</td>\n",
              "      <td>2.00</td>\n",
              "      <td>3.00</td>\n",
              "      <td>74.50</td>\n",
              "      <td>8.00</td>\n",
              "      <td>23.10</td>\n",
              "      <td>0.00</td>\n",
              "      <td>1.00</td>\n",
              "      <td>0.00</td>\n",
              "      <td>11.00</td>\n",
              "      <td>1.00</td>\n",
              "      <td>2.00</td>\n",
              "      <td>50.00</td>\n",
              "      <td>0.00</td>\n",
              "    </tr>\n",
              "    <tr>\n",
              "      <th>50%</th>\n",
              "      <td>14.00</td>\n",
              "      <td>1.00</td>\n",
              "      <td>1.00</td>\n",
              "      <td>50.00</td>\n",
              "      <td>3.00</td>\n",
              "      <td>4.00</td>\n",
              "      <td>79.70</td>\n",
              "      <td>11.00</td>\n",
              "      <td>33.30</td>\n",
              "      <td>5.00</td>\n",
              "      <td>2.00</td>\n",
              "      <td>0.00</td>\n",
              "      <td>14.00</td>\n",
              "      <td>2.00</td>\n",
              "      <td>4.00</td>\n",
              "      <td>75.00</td>\n",
              "      <td>0.00</td>\n",
              "    </tr>\n",
              "    <tr>\n",
              "      <th>75%</th>\n",
              "      <td>21.00</td>\n",
              "      <td>2.00</td>\n",
              "      <td>2.00</td>\n",
              "      <td>58.00</td>\n",
              "      <td>4.00</td>\n",
              "      <td>6.00</td>\n",
              "      <td>83.60</td>\n",
              "      <td>14.00</td>\n",
              "      <td>44.40</td>\n",
              "      <td>9.00</td>\n",
              "      <td>3.00</td>\n",
              "      <td>0.00</td>\n",
              "      <td>17.00</td>\n",
              "      <td>3.00</td>\n",
              "      <td>5.00</td>\n",
              "      <td>100.00</td>\n",
              "      <td>1.00</td>\n",
              "    </tr>\n",
              "    <tr>\n",
              "      <th>max</th>\n",
              "      <td>33.00</td>\n",
              "      <td>9.00</td>\n",
              "      <td>9.00</td>\n",
              "      <td>82.00</td>\n",
              "      <td>9.00</td>\n",
              "      <td>19.00</td>\n",
              "      <td>92.90</td>\n",
              "      <td>33.00</td>\n",
              "      <td>100.00</td>\n",
              "      <td>33.00</td>\n",
              "      <td>8.00</td>\n",
              "      <td>3.00</td>\n",
              "      <td>31.00</td>\n",
              "      <td>10.00</td>\n",
              "      <td>14.00</td>\n",
              "      <td>100.00</td>\n",
              "      <td>2.00</td>\n",
              "    </tr>\n",
              "  </tbody>\n",
              "</table>\n",
              "</div>"
            ],
            "text/plain": [
              "        rodada  gols_marcados  ...  defesas_%  sem_vazamento\n",
              "count  2681.00        2681.00  ...    2681.00        2681.00\n",
              "mean     14.28           1.38  ...      69.24           0.27\n",
              "std       8.01           1.23  ...      29.05           0.44\n",
              "min       1.00           0.00  ...    -100.00           0.00\n",
              "25%       7.00           0.00  ...      50.00           0.00\n",
              "50%      14.00           1.00  ...      75.00           0.00\n",
              "75%      21.00           2.00  ...     100.00           1.00\n",
              "max      33.00           9.00  ...     100.00           2.00\n",
              "\n",
              "[8 rows x 17 columns]"
            ]
          },
          "metadata": {
            "tags": []
          },
          "execution_count": 17
        }
      ]
    },
    {
      "cell_type": "code",
      "metadata": {
        "id": "JUqaq2OicHyW"
      },
      "source": [
        "mask = np.zeros_like(liga_italiana.corr())\n",
        "mask[np.triu_indices_from(mask)] = True\n",
        "\n",
        "plt.figure(figsize=(16, 8))\n",
        "sns.heatmap(liga_italiana.corr().round(2), cmap='Blues', annot=True, mask=mask,\n",
        "            center=0);"
      ],
      "execution_count": 18,
      "outputs": []
    },
    {
      "cell_type": "code",
      "metadata": {
        "id": "u-xftL_6P3rA"
      },
      "source": [
        "#profile = ProfileReport(liga_italiana, title='Pandas Profiling Report',\n",
        "#                        explorative=True, html={'style': {'full_width': True}})"
      ],
      "execution_count": 19,
      "outputs": []
    },
    {
      "cell_type": "code",
      "metadata": {
        "id": "b3TUUGTXUUGk"
      },
      "source": [
        "#profile.to_file('analise_exploratoria_liga_italiana.html')"
      ],
      "execution_count": 20,
      "outputs": []
    },
    {
      "cell_type": "markdown",
      "metadata": {
        "id": "Ei2OhZkSAvCE"
      },
      "source": [
        "# 5 Modelos"
      ]
    },
    {
      "cell_type": "code",
      "metadata": {
        "colab": {
          "base_uri": "https://localhost:8080/"
        },
        "id": "wlgm1IwaeGjh",
        "outputId": "b130b47c-b989-4cfe-e6c7-f0982452d644"
      },
      "source": [
        "remove_variaveis_correlacionadas(todas_ligas)"
      ],
      "execution_count": 21,
      "outputs": [
        {
          "output_type": "stream",
          "text": [
            "Variáveis escluídas:  ['cartoes_total']\n"
          ],
          "name": "stdout"
        }
      ]
    },
    {
      "cell_type": "markdown",
      "metadata": {
        "id": "-vUrTZolV1iA"
      },
      "source": [
        "## 5.1 Resultado da partida"
      ]
    },
    {
      "cell_type": "code",
      "metadata": {
        "id": "cVJSGeI1Wa37"
      },
      "source": [
        "pipeline_resultado = Pipeline([('ohe', OneHotEncoder(handle_unknown='ignore')),\n",
        "                               ('normalizacao', MaxAbsScaler()),\n",
        "                               ('modelo', DecisionTreeClassifier())\n",
        "])"
      ],
      "execution_count": 22,
      "outputs": []
    },
    {
      "cell_type": "code",
      "metadata": {
        "id": "MyMJ93hIT5qd"
      },
      "source": [
        "pipeline_resultado_3 = Pipeline([('ohe', OneHotEncoder(handle_unknown='ignore')),\n",
        "                               ('normalizacao', MaxAbsScaler()),\n",
        "                               ('modelo', RandomForestClassifier())\n",
        "])"
      ],
      "execution_count": 23,
      "outputs": []
    },
    {
      "cell_type": "markdown",
      "metadata": {
        "id": "jCdSTxcrVEYe"
      },
      "source": [
        "\n",
        "\n",
        "---\n",
        "\n"
      ]
    },
    {
      "cell_type": "code",
      "metadata": {
        "id": "Qy6kJN-US583",
        "colab": {
          "base_uri": "https://localhost:8080/"
        },
        "outputId": "19445834-4f22-4c3f-903a-bea29d7ebd60"
      },
      "source": [
        "x = todas_ligas.drop(['clube', 'data', 'rodada', 'oponente', 'resultado',\n",
        "                      'gols_partida'],\n",
        "                       axis=1)\n",
        "y = todas_ligas['resultado']\n",
        "seed = np.random.seed(239)\n",
        "x_treino, x_teste, y_treino, y_teste = train_test_split(x, y, random_state=seed)\n",
        "pipeline_resultado.fit(x_treino, y_treino)\n",
        "previsao = pipeline_resultado.predict(x_teste)\n",
        "print('Resultado da Partida')\n",
        "print('Decision Tree')\n",
        "print(f'Acurácia: {pipeline_resultado.score(x_teste, y_teste):.2f}')"
      ],
      "execution_count": 25,
      "outputs": [
        {
          "output_type": "stream",
          "text": [
            "Resultado da Partida\n",
            "Decision Tree\n",
            "Acurácia: 1.00\n"
          ],
          "name": "stdout"
        }
      ]
    },
    {
      "cell_type": "code",
      "metadata": {
        "colab": {
          "base_uri": "https://localhost:8080/"
        },
        "id": "C2IcqCJIl_R1",
        "outputId": "2fc588ae-179f-46b7-bf64-c45350e1e4a4"
      },
      "source": [
        "plot_tree(pipeline_resultado['modelo'], \n",
        "          feature_names=pipeline_resultado['ohe'].get_feature_names(x_treino.columns))"
      ],
      "execution_count": 26,
      "outputs": [
        {
          "output_type": "execute_result",
          "data": {
            "text/plain": [
              "[Text(546.1835294117648, 410.71999999999997, 'chutes_por_gol_0.0 <= 0.5\\ngini = 0.661\\nsamples = 2010\\nvalue = [735, 552, 723]'),\n",
              " Text(462.15529411764714, 362.4, 'gols_sofridos_0.0 <= 0.5\\ngini = 0.628\\nsamples = 1472\\nvalue = [339, 410, 723]'),\n",
              " Text(420.14117647058833, 314.08, 'gols_marcados_1.0 <= 0.5\\ngini = 0.664\\nsamples = 1091\\nvalue = [339, 410, 342]'),\n",
              " Text(336.11294117647066, 265.76, 'gols_sofridos_1.0 <= 0.5\\ngini = 0.519\\nsamples = 533\\nvalue = [68, 123, 342]'),\n",
              " Text(294.09882352941185, 217.44, 'gols_marcados_2.0 <= 0.5\\ngini = 0.637\\nsamples = 260\\nvalue = [68, 123, 69]'),\n",
              " Text(210.07058823529417, 169.12, 'gols_sofridos_2.0 <= 0.5\\ngini = 0.495\\nsamples = 105\\nvalue = [9, 27, 69]'),\n",
              " Text(168.05647058823533, 120.80000000000001, 'gols_marcados_4.0 <= 0.5\\ngini = 0.579\\nsamples = 47\\nvalue = [9, 27, 11]'),\n",
              " Text(84.02823529411766, 72.48000000000002, 'gols_sofridos_3.0 <= 0.5\\ngini = 0.389\\nsamples = 34\\nvalue = [9, 25, 0]'),\n",
              " Text(42.01411764705883, 24.159999999999968, 'gini = 0.0\\nsamples = 9\\nvalue = [9, 0, 0]'),\n",
              " Text(126.04235294117649, 24.159999999999968, 'gini = 0.0\\nsamples = 25\\nvalue = [0, 25, 0]'),\n",
              " Text(252.08470588235298, 72.48000000000002, 'gols_sofridos_3.0 <= 0.5\\ngini = 0.26\\nsamples = 13\\nvalue = [0, 2, 11]'),\n",
              " Text(210.07058823529417, 24.159999999999968, 'gini = 0.0\\nsamples = 2\\nvalue = [0, 2, 0]'),\n",
              " Text(294.09882352941185, 24.159999999999968, 'gini = 0.0\\nsamples = 11\\nvalue = [0, 0, 11]'),\n",
              " Text(252.08470588235298, 120.80000000000001, 'gini = 0.0\\nsamples = 58\\nvalue = [0, 0, 58]'),\n",
              " Text(378.12705882352947, 169.12, 'gols_sofridos_2.0 <= 0.5\\ngini = 0.472\\nsamples = 155\\nvalue = [59, 96, 0]'),\n",
              " Text(336.11294117647066, 120.80000000000001, 'gini = 0.0\\nsamples = 59\\nvalue = [59, 0, 0]'),\n",
              " Text(420.14117647058833, 120.80000000000001, 'gini = 0.0\\nsamples = 96\\nvalue = [0, 96, 0]'),\n",
              " Text(378.12705882352947, 217.44, 'gini = 0.0\\nsamples = 273\\nvalue = [0, 0, 273]'),\n",
              " Text(504.16941176470596, 265.76, 'gols_sofridos_1.0 <= 0.5\\ngini = 0.5\\nsamples = 558\\nvalue = [271, 287, 0]'),\n",
              " Text(462.15529411764714, 217.44, 'gini = 0.0\\nsamples = 271\\nvalue = [271, 0, 0]'),\n",
              " Text(546.1835294117648, 217.44, 'gini = 0.0\\nsamples = 287\\nvalue = [0, 287, 0]'),\n",
              " Text(504.16941176470596, 314.08, 'gini = 0.0\\nsamples = 381\\nvalue = [0, 0, 381]'),\n",
              " Text(630.2117647058825, 362.4, 'sem_vazamento_1 <= 0.5\\ngini = 0.389\\nsamples = 538\\nvalue = [396, 142, 0]'),\n",
              " Text(588.1976470588237, 314.08, 'gini = 0.0\\nsamples = 396\\nvalue = [396, 0, 0]'),\n",
              " Text(672.2258823529413, 314.08, 'gini = 0.0\\nsamples = 142\\nvalue = [0, 142, 0]')]"
            ]
          },
          "metadata": {
            "tags": []
          },
          "execution_count": 26
        }
      ]
    },
    {
      "cell_type": "code",
      "metadata": {
        "id": "4kVHwCzMZ0zE"
      },
      "source": [
        "_ = pd.DataFrame({'feature_importance': pipeline_resultado['modelo'].feature_importances_,\n",
        "                  'variavel': pipeline_resultado['ohe'].get_feature_names(x_treino.columns)}).sort_values('feature_importance', \n",
        "                                                                                          ascending=False)\n",
        "plt.figure(figsize=(16, 12))\n",
        "sns.barplot(data=_[:20], y='variavel', x='feature_importance', orient='h')\n",
        "personaliza_grafico('Featurer importances Decision Tree', \n",
        "                    'Featurer importances', '')"
      ],
      "execution_count": 27,
      "outputs": []
    },
    {
      "cell_type": "code",
      "metadata": {
        "id": "Q69ig7q3byuR"
      },
      "source": [
        "#output = open('resultado_partida_random_forest', 'wb')\n",
        "#pickle.dump(pipeline_resultado, output)"
      ],
      "execution_count": 24,
      "outputs": []
    },
    {
      "cell_type": "markdown",
      "metadata": {
        "id": "MeYXx31GYLfd"
      },
      "source": [
        "# Referências"
      ]
    },
    {
      "cell_type": "markdown",
      "metadata": {
        "id": "FFah-G_XQlaq"
      },
      "source": [
        "FBREF. Estatísticas e Histórico do Futebol. Disponível em: https://fbref.com/pt/. Acesso em:  24 Fev. 2021."
      ]
    },
    {
      "cell_type": "markdown",
      "metadata": {
        "id": "JqO0UMYGQa9p"
      },
      "source": [
        "\n",
        "\n",
        "---\n",
        "\n"
      ]
    }
  ]
}