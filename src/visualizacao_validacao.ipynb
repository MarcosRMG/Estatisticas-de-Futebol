{
  "nbformat": 4,
  "nbformat_minor": 0,
  "metadata": {
    "colab": {
      "name": "Estatisticas do Futebol.ipynb",
      "provenance": [],
      "collapsed_sections": [
        "b_9IY-sFUs8c",
        "Cn1gt552ORZy",
        "KM70qCti420w",
        "2gKv9XyBVngk",
        "4ZrVneB6aOw4",
        "SZrF386off3m",
        "MeYXx31GYLfd"
      ],
      "toc_visible": true,
      "authorship_tag": "ABX9TyNGUjyqituyQePXskpxA2Rx",
      "include_colab_link": true
    },
    "kernelspec": {
      "name": "python3",
      "display_name": "Python 3.8.5 64-bit ('base': conda)"
    },
    "interpreter": {
      "hash": "4485ef6c71e205f876fdb847a23be8aea5be97e0faf2581a4f2f9cf349a3b862"
    }
  },
  "cells": [
    {
      "cell_type": "code",
      "execution_count": 1,
      "metadata": {},
      "outputs": [],
      "source": [
        "import pandas as pd"
      ]
    },
    {
      "cell_type": "code",
      "execution_count": 9,
      "metadata": {},
      "outputs": [],
      "source": [
        "atual = pd.read_csv('../dados/brasileirao/couk/temporada_atual.csv')\n",
        "geral = pd.read_csv('../dados/brasileirao/couk/temporadas_baixadas.csv')\n",
        "atual_fbref = pd.read_csv('../dados/brasileirao/fbref/rodadas_liga.csv')"
      ]
    },
    {
      "cell_type": "code",
      "execution_count": 11,
      "metadata": {},
      "outputs": [
        {
          "output_type": "execute_result",
          "data": {
            "text/plain": [
              "            data      mandante         visitante  gols_mandante_partida  \\\n",
              "0     2021-06-07  Sport Recife  Atlético Mineiro                    0.0   \n",
              "34    2021-02-21  Sport Recife  Atlético Mineiro                    2.0   \n",
              "52    2021-02-11    Fluminense  Atlético Mineiro                    0.0   \n",
              "65    2021-02-04         Goias  Atlético Mineiro                    1.0   \n",
              "85    2021-01-24         Vasco  Atlético Mineiro                    3.0   \n",
              "...          ...           ...               ...                    ...   \n",
              "3357  2012-07-14   Figueirense  Atlético Mineiro                    3.0   \n",
              "3371  2012-07-01        Grêmio  Atlético Mineiro                    0.0   \n",
              "3394  2012-06-17     São Paulo  Atlético Mineiro                    1.0   \n",
              "3400  2012-06-10     Palmeiras  Atlético Mineiro                    0.0   \n",
              "3430  2012-05-20   Ponte Preta  Atlético Mineiro                    0.0   \n",
              "\n",
              "      gols_visitante_partida          resultado  gols_partida  \n",
              "0                        1.0  Vitória Visitante           1.0  \n",
              "34                       3.0  Vitória Visitante           5.0  \n",
              "52                       0.0             Empate           0.0  \n",
              "65                       0.0   Vitória Mandante           1.0  \n",
              "85                       2.0   Vitória Mandante           5.0  \n",
              "...                      ...                ...           ...  \n",
              "3357                     4.0  Vitória Visitante           7.0  \n",
              "3371                     1.0  Vitória Visitante           1.0  \n",
              "3394                     0.0   Vitória Mandante           1.0  \n",
              "3400                     1.0  Vitória Visitante           1.0  \n",
              "3430                     1.0  Vitória Visitante           1.0  \n",
              "\n",
              "[172 rows x 7 columns]"
            ],
            "text/html": "<div>\n<style scoped>\n    .dataframe tbody tr th:only-of-type {\n        vertical-align: middle;\n    }\n\n    .dataframe tbody tr th {\n        vertical-align: top;\n    }\n\n    .dataframe thead th {\n        text-align: right;\n    }\n</style>\n<table border=\"1\" class=\"dataframe\">\n  <thead>\n    <tr style=\"text-align: right;\">\n      <th></th>\n      <th>data</th>\n      <th>mandante</th>\n      <th>visitante</th>\n      <th>gols_mandante_partida</th>\n      <th>gols_visitante_partida</th>\n      <th>resultado</th>\n      <th>gols_partida</th>\n    </tr>\n  </thead>\n  <tbody>\n    <tr>\n      <th>0</th>\n      <td>2021-06-07</td>\n      <td>Sport Recife</td>\n      <td>Atlético Mineiro</td>\n      <td>0.0</td>\n      <td>1.0</td>\n      <td>Vitória Visitante</td>\n      <td>1.0</td>\n    </tr>\n    <tr>\n      <th>34</th>\n      <td>2021-02-21</td>\n      <td>Sport Recife</td>\n      <td>Atlético Mineiro</td>\n      <td>2.0</td>\n      <td>3.0</td>\n      <td>Vitória Visitante</td>\n      <td>5.0</td>\n    </tr>\n    <tr>\n      <th>52</th>\n      <td>2021-02-11</td>\n      <td>Fluminense</td>\n      <td>Atlético Mineiro</td>\n      <td>0.0</td>\n      <td>0.0</td>\n      <td>Empate</td>\n      <td>0.0</td>\n    </tr>\n    <tr>\n      <th>65</th>\n      <td>2021-02-04</td>\n      <td>Goias</td>\n      <td>Atlético Mineiro</td>\n      <td>1.0</td>\n      <td>0.0</td>\n      <td>Vitória Mandante</td>\n      <td>1.0</td>\n    </tr>\n    <tr>\n      <th>85</th>\n      <td>2021-01-24</td>\n      <td>Vasco</td>\n      <td>Atlético Mineiro</td>\n      <td>3.0</td>\n      <td>2.0</td>\n      <td>Vitória Mandante</td>\n      <td>5.0</td>\n    </tr>\n    <tr>\n      <th>...</th>\n      <td>...</td>\n      <td>...</td>\n      <td>...</td>\n      <td>...</td>\n      <td>...</td>\n      <td>...</td>\n      <td>...</td>\n    </tr>\n    <tr>\n      <th>3357</th>\n      <td>2012-07-14</td>\n      <td>Figueirense</td>\n      <td>Atlético Mineiro</td>\n      <td>3.0</td>\n      <td>4.0</td>\n      <td>Vitória Visitante</td>\n      <td>7.0</td>\n    </tr>\n    <tr>\n      <th>3371</th>\n      <td>2012-07-01</td>\n      <td>Grêmio</td>\n      <td>Atlético Mineiro</td>\n      <td>0.0</td>\n      <td>1.0</td>\n      <td>Vitória Visitante</td>\n      <td>1.0</td>\n    </tr>\n    <tr>\n      <th>3394</th>\n      <td>2012-06-17</td>\n      <td>São Paulo</td>\n      <td>Atlético Mineiro</td>\n      <td>1.0</td>\n      <td>0.0</td>\n      <td>Vitória Mandante</td>\n      <td>1.0</td>\n    </tr>\n    <tr>\n      <th>3400</th>\n      <td>2012-06-10</td>\n      <td>Palmeiras</td>\n      <td>Atlético Mineiro</td>\n      <td>0.0</td>\n      <td>1.0</td>\n      <td>Vitória Visitante</td>\n      <td>1.0</td>\n    </tr>\n    <tr>\n      <th>3430</th>\n      <td>2012-05-20</td>\n      <td>Ponte Preta</td>\n      <td>Atlético Mineiro</td>\n      <td>0.0</td>\n      <td>1.0</td>\n      <td>Vitória Visitante</td>\n      <td>1.0</td>\n    </tr>\n  </tbody>\n</table>\n<p>172 rows × 7 columns</p>\n</div>"
          },
          "metadata": {},
          "execution_count": 11
        }
      ],
      "source": [
        "geral.query('visitante == \"Atlético Mineiro\"')"
      ]
    },
    {
      "cell_type": "code",
      "execution_count": null,
      "metadata": {},
      "outputs": [],
      "source": []
    }
  ]
}