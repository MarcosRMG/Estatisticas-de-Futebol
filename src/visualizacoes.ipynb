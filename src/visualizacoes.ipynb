{
 "cells": [
  {
   "cell_type": "code",
   "execution_count": 2,
   "metadata": {},
   "outputs": [],
   "source": [
    "from urllib.request import urlopen\n",
    "from bs4 import BeautifulSoup\n",
    "from IPython.core.display import display, HTML\n",
    "import pandas as pd"
   ]
  },
  {
   "cell_type": "code",
   "execution_count": 17,
   "metadata": {},
   "outputs": [],
   "source": [
    "dados = pd.read_csv('../dados/italiano_serie_a_20_21/rodadas_liga.csv')\n",
    "tabela = pd.read_csv('../dados/italiano_serie_a_20_21/tabela_liga.csv')"
   ]
  },
  {
   "cell_type": "code",
   "execution_count": 49,
   "metadata": {},
   "outputs": [
    {
     "output_type": "execute_result",
     "data": {
      "text/plain": [
       "   Unnamed: 0  clube        data      local resultado  gols_marcados  \\\n",
       "0           1  Inter  2020-09-30  Visitante         V            5.0   \n",
       "1           2  Inter  2020-09-26    Em casa         V            4.0   \n",
       "2           3  Inter  2020-10-04  Visitante         E            1.0   \n",
       "3           4  Inter  2020-10-17    Em casa         D            1.0   \n",
       "4           5  Inter  2020-10-24  Visitante         V            2.0   \n",
       "\n",
       "   gols_sofridos    oponente  posse  escanteios  \\\n",
       "0            2.0   Benevento   66.0         0.0   \n",
       "1            3.0  Fiorentina   66.0         3.0   \n",
       "2            1.0       Lazio   60.0         4.0   \n",
       "3            2.0       Milan   55.0         3.0   \n",
       "4            0.0       Genoa   61.0         8.0   \n",
       "\n",
       "                                              escudo  \n",
       "0  https://d2p3bygnnzw9w3.cloudfront.net/req/2021...  \n",
       "1                                                NaN  \n",
       "2                                                NaN  \n",
       "3                                                NaN  \n",
       "4                                                NaN  "
      ],
      "text/html": "<div>\n<style scoped>\n    .dataframe tbody tr th:only-of-type {\n        vertical-align: middle;\n    }\n\n    .dataframe tbody tr th {\n        vertical-align: top;\n    }\n\n    .dataframe thead th {\n        text-align: right;\n    }\n</style>\n<table border=\"1\" class=\"dataframe\">\n  <thead>\n    <tr style=\"text-align: right;\">\n      <th></th>\n      <th>Unnamed: 0</th>\n      <th>clube</th>\n      <th>data</th>\n      <th>local</th>\n      <th>resultado</th>\n      <th>gols_marcados</th>\n      <th>gols_sofridos</th>\n      <th>oponente</th>\n      <th>posse</th>\n      <th>escanteios</th>\n      <th>escudo</th>\n    </tr>\n  </thead>\n  <tbody>\n    <tr>\n      <th>0</th>\n      <td>1</td>\n      <td>Inter</td>\n      <td>2020-09-30</td>\n      <td>Visitante</td>\n      <td>V</td>\n      <td>5.0</td>\n      <td>2.0</td>\n      <td>Benevento</td>\n      <td>66.0</td>\n      <td>0.0</td>\n      <td>https://d2p3bygnnzw9w3.cloudfront.net/req/2021...</td>\n    </tr>\n    <tr>\n      <th>1</th>\n      <td>2</td>\n      <td>Inter</td>\n      <td>2020-09-26</td>\n      <td>Em casa</td>\n      <td>V</td>\n      <td>4.0</td>\n      <td>3.0</td>\n      <td>Fiorentina</td>\n      <td>66.0</td>\n      <td>3.0</td>\n      <td>NaN</td>\n    </tr>\n    <tr>\n      <th>2</th>\n      <td>3</td>\n      <td>Inter</td>\n      <td>2020-10-04</td>\n      <td>Visitante</td>\n      <td>E</td>\n      <td>1.0</td>\n      <td>1.0</td>\n      <td>Lazio</td>\n      <td>60.0</td>\n      <td>4.0</td>\n      <td>NaN</td>\n    </tr>\n    <tr>\n      <th>3</th>\n      <td>4</td>\n      <td>Inter</td>\n      <td>2020-10-17</td>\n      <td>Em casa</td>\n      <td>D</td>\n      <td>1.0</td>\n      <td>2.0</td>\n      <td>Milan</td>\n      <td>55.0</td>\n      <td>3.0</td>\n      <td>NaN</td>\n    </tr>\n    <tr>\n      <th>4</th>\n      <td>5</td>\n      <td>Inter</td>\n      <td>2020-10-24</td>\n      <td>Visitante</td>\n      <td>V</td>\n      <td>2.0</td>\n      <td>0.0</td>\n      <td>Genoa</td>\n      <td>61.0</td>\n      <td>8.0</td>\n      <td>NaN</td>\n    </tr>\n  </tbody>\n</table>\n</div>"
     },
     "metadata": {},
     "execution_count": 49
    }
   ],
   "source": [
    "dados.head()"
   ]
  },
  {
   "cell_type": "code",
   "execution_count": null,
   "metadata": {},
   "outputs": [],
   "source": []
  }
 ],
 "metadata": {
  "kernelspec": {
   "name": "python3",
   "display_name": "Python 3.8.5 64-bit ('venv_foot_stats')",
   "metadata": {
    "interpreter": {
     "hash": "fe2bc7a61e0e6bddc3040081085c64a61a5e570d4bd2cc2b683b734a114eee1a"
    }
   }
  },
  "language_info": {
   "codemirror_mode": {
    "name": "ipython",
    "version": 3
   },
   "file_extension": ".py",
   "mimetype": "text/x-python",
   "name": "python",
   "nbconvert_exporter": "python",
   "pygments_lexer": "ipython3",
   "version": "3.8.5-final"
  }
 },
 "nbformat": 4,
 "nbformat_minor": 2
}