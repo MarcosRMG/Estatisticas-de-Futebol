{
 "cells": [
  {
   "cell_type": "code",
   "execution_count": 132,
   "metadata": {},
   "outputs": [],
   "source": [
    "from urllib.request import urlopen\n",
    "from bs4 import BeautifulSoup\n",
    "from IPython.core.display import display, HTML\n",
    "import pandas as pd\n",
    "from funcoes import trata_tabela_rodadas_liga\n",
    "from classes import CapturaDados"
   ]
  },
  {
   "source": [
    "dados para agregar no dataframe, escanteios, endereço da logo ultimos resultados"
   ],
   "cell_type": "markdown",
   "metadata": {}
  },
  {
   "cell_type": "code",
   "execution_count": null,
   "metadata": {},
   "outputs": [],
   "source": []
  }
 ],
 "metadata": {
  "kernelspec": {
   "name": "python3",
   "display_name": "Python 3.8.5 64-bit ('venv_foot_stats')",
   "metadata": {
    "interpreter": {
     "hash": "fe2bc7a61e0e6bddc3040081085c64a61a5e570d4bd2cc2b683b734a114eee1a"
    }
   }
  },
  "language_info": {
   "codemirror_mode": {
    "name": "ipython",
    "version": 3
   },
   "file_extension": ".py",
   "mimetype": "text/x-python",
   "name": "python",
   "nbconvert_exporter": "python",
   "pygments_lexer": "ipython3",
   "version": "3.8.5-final"
  }
 },
 "nbformat": 4,
 "nbformat_minor": 2
}