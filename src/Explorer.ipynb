{
 "cells": [
  {
   "cell_type": "code",
   "execution_count": 1,
   "metadata": {},
   "outputs": [],
   "source": [
    "import pandas as pd"
   ]
  },
  {
   "cell_type": "code",
   "execution_count": 7,
   "metadata": {},
   "outputs": [],
   "source": [
    "#dados = pd.read_csv('../dados/italiano_serie_a_20_21/rodadas_liga.csv')\n",
    "tabela = pd.read_csv('../dados/premier_league_20_21/tabela_liga.csv')"
   ]
  },
  {
   "cell_type": "code",
   "execution_count": 10,
   "metadata": {},
   "outputs": [
    {
     "output_type": "execute_result",
     "data": {
      "text/plain": [
       "array(['Manchester City', 'Manchester Utd', 'Leicester City', 'West Ham',\n",
       "       'Chelsea', 'Liverpool', 'Everton', 'Tottenham', 'Aston Villa',\n",
       "       'Arsenal', 'Leeds United', 'Wolves', 'Crystal Palace',\n",
       "       'Southampton', 'Burnley', 'Brighton', 'Newcastle Utd', 'Fulham',\n",
       "       'West Brom', 'Sheffield Utd'], dtype=object)"
      ]
     },
     "metadata": {},
     "execution_count": 10
    }
   ],
   "source": [
    "tabela['equipe'].values"
   ]
  },
  {
   "cell_type": "code",
   "execution_count": 11,
   "metadata": {},
   "outputs": [],
   "source": [
    "dic = {'Um': 1, 'Dois': 2}"
   ]
  },
  {
   "cell_type": "code",
   "execution_count": 12,
   "metadata": {},
   "outputs": [
    {
     "output_type": "execute_result",
     "data": {
      "text/plain": [
       "dict_keys(['Um', 'Dois'])"
      ]
     },
     "metadata": {},
     "execution_count": 12
    }
   ],
   "source": [
    "dic.keys()"
   ]
  },
  {
   "cell_type": "code",
   "execution_count": null,
   "metadata": {},
   "outputs": [],
   "source": []
  }
 ],
 "metadata": {
  "kernelspec": {
   "name": "python3",
   "display_name": "Python 3.8.5 64-bit ('venv_foot_stats')",
   "metadata": {
    "interpreter": {
     "hash": "fe2bc7a61e0e6bddc3040081085c64a61a5e570d4bd2cc2b683b734a114eee1a"
    }
   }
  },
  "language_info": {
   "codemirror_mode": {
    "name": "ipython",
    "version": 3
   },
   "file_extension": ".py",
   "mimetype": "text/x-python",
   "name": "python",
   "nbconvert_exporter": "python",
   "pygments_lexer": "ipython3",
   "version": "3.8.5-final"
  }
 },
 "nbformat": 4,
 "nbformat_minor": 2
}