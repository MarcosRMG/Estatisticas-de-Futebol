{
 "cells": [
  {
   "cell_type": "code",
   "execution_count": 4,
   "metadata": {},
   "outputs": [
    {
     "output_type": "error",
     "ename": "ModuleNotFoundError",
     "evalue": "No module named 'classes'",
     "traceback": [
      "\u001b[0;31m---------------------------------------------------------------------------\u001b[0m",
      "\u001b[0;31mModuleNotFoundError\u001b[0m                       Traceback (most recent call last)",
      "\u001b[0;32m<ipython-input-4-3a2f3952a6c7>\u001b[0m in \u001b[0;36m<module>\u001b[0;34m\u001b[0m\n\u001b[1;32m      4\u001b[0m \u001b[0;32mimport\u001b[0m \u001b[0mpandas\u001b[0m \u001b[0;32mas\u001b[0m \u001b[0mpd\u001b[0m\u001b[0;34m\u001b[0m\u001b[0;34m\u001b[0m\u001b[0m\n\u001b[1;32m      5\u001b[0m \u001b[0;32mfrom\u001b[0m \u001b[0mfuncoes\u001b[0m \u001b[0;32mimport\u001b[0m \u001b[0mtrata_tabela_rodadas_liga\u001b[0m\u001b[0;34m\u001b[0m\u001b[0;34m\u001b[0m\u001b[0m\n\u001b[0;32m----> 6\u001b[0;31m \u001b[0;32mfrom\u001b[0m \u001b[0mclasses\u001b[0m \u001b[0;32mimport\u001b[0m \u001b[0mCapturaDados\u001b[0m\u001b[0;34m\u001b[0m\u001b[0;34m\u001b[0m\u001b[0m\n\u001b[0m",
      "\u001b[0;31mModuleNotFoundError\u001b[0m: No module named 'classes'"
     ]
    }
   ],
   "source": [
    "from urllib.request import urlopen\n",
    "from bs4 import BeautifulSoup\n",
    "from IPython.core.display import display, HTML\n",
    "import pandas as pd\n",
    "from funcoes import trata_tabela_rodadas_liga\n",
    "from classes import CapturaDados"
   ]
  },
  {
   "source": [
    "dados para agregar no dataframe, escanteios, endereço da logo ultimos resultados"
   ],
   "cell_type": "markdown",
   "metadata": {}
  },
  {
   "cell_type": "code",
   "execution_count": null,
   "metadata": {},
   "outputs": [],
   "source": [
    "def trata_tabela_liga(html: str, dicionario_colunas={\n",
    "    'Cl': 'posicao',\n",
    "    'Equipe': 'equipe',\n",
    "    'MP': 'jogos',\t\n",
    "    'V': 'vitorias',\t\n",
    "    'E': 'empates',\t\n",
    "    'D': 'derrotas',\t\n",
    "    'GP': 'gols_marcados',\t\n",
    "    'GC': 'gols_sofridos',\t\n",
    "    'GD': 'saldo_gols',\t\n",
    "    'Pt': 'pontos',\t\n",
    "    'Últimos 5': 'ultimos_5'\n",
    "}, \n",
    "                      colunas_desconsideradas=['xG', 'xGA', 'xGD', 'xGD/90', \n",
    "                                               'Público', 'Artilheiro da equipe', \n",
    "                                               'Goleiro', 'Notas']):\n",
    "  '''\n",
    "  Leitura e limpeza da tabela da liga\n",
    "\n",
    "  Keywords arguments\n",
    "  html: Html contendo as informações da tabela\n",
    "  dicionario_colunas: Dicionário com a descrição da coluna padronizada\n",
    "  colunas_desconsideradas: Lista de colunas que não serão analidas\n",
    "\n",
    "  return: Nota tabela com as informações para análise\n",
    "  '''\n",
    "  tabela = pd.read_html(html)[0]\n",
    "  tabela.rename(dicionario_colunas, axis=1, inplace=True)\n",
    "  tabela.drop(colunas_desconsideradas, axis=1, inplace=True)\n",
    "  return tabela"
   ]
  },
  {
   "cell_type": "code",
   "execution_count": null,
   "metadata": {},
   "outputs": [],
   "source": [
    "dados = trata_tabela_liga('https://fbref.com/pt/comps/11/Serie-A-Estatisticas')"
   ]
  },
  {
   "cell_type": "code",
   "execution_count": 7,
   "metadata": {},
   "outputs": [
    {
     "output_type": "execute_result",
     "data": {
      "text/plain": [
       "   posicao    equipe  jogos  vitorias  empates  derrotas  gols_marcados  \\\n",
       "0        1     Inter     24        17        5         2             60   \n",
       "1        2     Milan     24        16        4         4             47   \n",
       "2        3  Juventus     23        13        7         3             45   \n",
       "3        4  Atalanta     24        13        7         4             55   \n",
       "4        5      Roma     24        13        5         6             48   \n",
       "\n",
       "   gols_sofridos  saldo_gols  pontos  ultimos_5  \n",
       "0             24          36      56  W W W W W  \n",
       "1             29          18      52  W W L L W  \n",
       "2             20          25      46  W W L W D  \n",
       "3             31          24      46  L D W W W  \n",
       "4             37          11      44  W L W D L  "
      ],
      "text/html": "<div>\n<style scoped>\n    .dataframe tbody tr th:only-of-type {\n        vertical-align: middle;\n    }\n\n    .dataframe tbody tr th {\n        vertical-align: top;\n    }\n\n    .dataframe thead th {\n        text-align: right;\n    }\n</style>\n<table border=\"1\" class=\"dataframe\">\n  <thead>\n    <tr style=\"text-align: right;\">\n      <th></th>\n      <th>posicao</th>\n      <th>equipe</th>\n      <th>jogos</th>\n      <th>vitorias</th>\n      <th>empates</th>\n      <th>derrotas</th>\n      <th>gols_marcados</th>\n      <th>gols_sofridos</th>\n      <th>saldo_gols</th>\n      <th>pontos</th>\n      <th>ultimos_5</th>\n    </tr>\n  </thead>\n  <tbody>\n    <tr>\n      <th>0</th>\n      <td>1</td>\n      <td>Inter</td>\n      <td>24</td>\n      <td>17</td>\n      <td>5</td>\n      <td>2</td>\n      <td>60</td>\n      <td>24</td>\n      <td>36</td>\n      <td>56</td>\n      <td>W W W W W</td>\n    </tr>\n    <tr>\n      <th>1</th>\n      <td>2</td>\n      <td>Milan</td>\n      <td>24</td>\n      <td>16</td>\n      <td>4</td>\n      <td>4</td>\n      <td>47</td>\n      <td>29</td>\n      <td>18</td>\n      <td>52</td>\n      <td>W W L L W</td>\n    </tr>\n    <tr>\n      <th>2</th>\n      <td>3</td>\n      <td>Juventus</td>\n      <td>23</td>\n      <td>13</td>\n      <td>7</td>\n      <td>3</td>\n      <td>45</td>\n      <td>20</td>\n      <td>25</td>\n      <td>46</td>\n      <td>W W L W D</td>\n    </tr>\n    <tr>\n      <th>3</th>\n      <td>4</td>\n      <td>Atalanta</td>\n      <td>24</td>\n      <td>13</td>\n      <td>7</td>\n      <td>4</td>\n      <td>55</td>\n      <td>31</td>\n      <td>24</td>\n      <td>46</td>\n      <td>L D W W W</td>\n    </tr>\n    <tr>\n      <th>4</th>\n      <td>5</td>\n      <td>Roma</td>\n      <td>24</td>\n      <td>13</td>\n      <td>5</td>\n      <td>6</td>\n      <td>48</td>\n      <td>37</td>\n      <td>11</td>\n      <td>44</td>\n      <td>W L W D L</td>\n    </tr>\n  </tbody>\n</table>\n</div>"
     },
     "metadata": {},
     "execution_count": 7
    }
   ],
   "source": [
    "dados.head()"
   ]
  },
  {
   "cell_type": "code",
   "execution_count": 9,
   "metadata": {},
   "outputs": [],
   "source": [
    "dados.to_csv('../dados/italiano_serie_a_20_21/tabela_liga.csv', index=False)"
   ]
  },
  {
   "cell_type": "code",
   "execution_count": 13,
   "metadata": {},
   "outputs": [],
   "source": [
    "arquivo = open('../dados/italiano_serie_a_20_21/test.csv', 'w')"
   ]
  },
  {
   "cell_type": "code",
   "execution_count": 15,
   "metadata": {},
   "outputs": [],
   "source": [
    "dados = pd.DataFrame({'um': 1, 'dois': 2}, index=[0, 1])"
   ]
  },
  {
   "cell_type": "code",
   "execution_count": 16,
   "metadata": {},
   "outputs": [
    {
     "output_type": "execute_result",
     "data": {
      "text/plain": [
       "   um  dois\n",
       "0   1     2\n",
       "1   1     2"
      ],
      "text/html": "<div>\n<style scoped>\n    .dataframe tbody tr th:only-of-type {\n        vertical-align: middle;\n    }\n\n    .dataframe tbody tr th {\n        vertical-align: top;\n    }\n\n    .dataframe thead th {\n        text-align: right;\n    }\n</style>\n<table border=\"1\" class=\"dataframe\">\n  <thead>\n    <tr style=\"text-align: right;\">\n      <th></th>\n      <th>um</th>\n      <th>dois</th>\n    </tr>\n  </thead>\n  <tbody>\n    <tr>\n      <th>0</th>\n      <td>1</td>\n      <td>2</td>\n    </tr>\n    <tr>\n      <th>1</th>\n      <td>1</td>\n      <td>2</td>\n    </tr>\n  </tbody>\n</table>\n</div>"
     },
     "metadata": {},
     "execution_count": 16
    }
   ],
   "source": [
    "dados"
   ]
  },
  {
   "cell_type": "code",
   "execution_count": 27,
   "metadata": {},
   "outputs": [],
   "source": [
    "dados_2 = pd.DataFrame({'um': 3, 'dois': 4}, index=[0, 1])"
   ]
  },
  {
   "cell_type": "code",
   "execution_count": 28,
   "metadata": {},
   "outputs": [
    {
     "output_type": "execute_result",
     "data": {
      "text/plain": [
       "   um  dois\n",
       "0   3     4\n",
       "1   3     4"
      ],
      "text/html": "<div>\n<style scoped>\n    .dataframe tbody tr th:only-of-type {\n        vertical-align: middle;\n    }\n\n    .dataframe tbody tr th {\n        vertical-align: top;\n    }\n\n    .dataframe thead th {\n        text-align: right;\n    }\n</style>\n<table border=\"1\" class=\"dataframe\">\n  <thead>\n    <tr style=\"text-align: right;\">\n      <th></th>\n      <th>um</th>\n      <th>dois</th>\n    </tr>\n  </thead>\n  <tbody>\n    <tr>\n      <th>0</th>\n      <td>3</td>\n      <td>4</td>\n    </tr>\n    <tr>\n      <th>1</th>\n      <td>3</td>\n      <td>4</td>\n    </tr>\n  </tbody>\n</table>\n</div>"
     },
     "metadata": {},
     "execution_count": 28
    }
   ],
   "source": [
    "dados_2"
   ]
  },
  {
   "cell_type": "code",
   "execution_count": 30,
   "metadata": {},
   "outputs": [
    {
     "output_type": "execute_result",
     "data": {
      "text/plain": [
       "   um  dois\n",
       "0   1     2\n",
       "1   1     2\n",
       "0   3     4\n",
       "1   3     4"
      ],
      "text/html": "<div>\n<style scoped>\n    .dataframe tbody tr th:only-of-type {\n        vertical-align: middle;\n    }\n\n    .dataframe tbody tr th {\n        vertical-align: top;\n    }\n\n    .dataframe thead th {\n        text-align: right;\n    }\n</style>\n<table border=\"1\" class=\"dataframe\">\n  <thead>\n    <tr style=\"text-align: right;\">\n      <th></th>\n      <th>um</th>\n      <th>dois</th>\n    </tr>\n  </thead>\n  <tbody>\n    <tr>\n      <th>0</th>\n      <td>1</td>\n      <td>2</td>\n    </tr>\n    <tr>\n      <th>1</th>\n      <td>1</td>\n      <td>2</td>\n    </tr>\n    <tr>\n      <th>0</th>\n      <td>3</td>\n      <td>4</td>\n    </tr>\n    <tr>\n      <th>1</th>\n      <td>3</td>\n      <td>4</td>\n    </tr>\n  </tbody>\n</table>\n</div>"
     },
     "metadata": {},
     "execution_count": 30
    }
   ],
   "source": [
    "pd.concat([dados, dados_2], ignore_index=False)"
   ]
  },
  {
   "cell_type": "code",
   "execution_count": 35,
   "metadata": {},
   "outputs": [],
   "source": [
    "dic = {'time': ['a', '1'], 'time2': ['b', '2']}"
   ]
  },
  {
   "cell_type": "code",
   "execution_count": 36,
   "metadata": {},
   "outputs": [
    {
     "output_type": "stream",
     "name": "stdout",
     "text": [
      "time a 1\ntime2 b 2\n"
     ]
    }
   ],
   "source": [
    "for time, nome in dic.items():\n",
    "    print(time, nome[0], nome[1])"
   ]
  },
  {
   "cell_type": "code",
   "execution_count": null,
   "metadata": {},
   "outputs": [],
   "source": []
  }
 ],
 "metadata": {
  "kernelspec": {
   "name": "python3",
   "display_name": "Python 3.8.5 64-bit ('venv_foot_stats')",
   "metadata": {
    "interpreter": {
     "hash": "fe2bc7a61e0e6bddc3040081085c64a61a5e570d4bd2cc2b683b734a114eee1a"
    }
   }
  },
  "language_info": {
   "codemirror_mode": {
    "name": "ipython",
    "version": 3
   },
   "file_extension": ".py",
   "mimetype": "text/x-python",
   "name": "python",
   "nbconvert_exporter": "python",
   "pygments_lexer": "ipython3",
   "version": "3.8.5-final"
  }
 },
 "nbformat": 4,
 "nbformat_minor": 2
}