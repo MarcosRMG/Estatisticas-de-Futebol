{
 "cells": [
  {
   "cell_type": "code",
   "execution_count": 1,
   "metadata": {},
   "outputs": [],
   "source": [
    "import pandas as pd"
   ]
  },
  {
   "cell_type": "code",
   "execution_count": 18,
   "metadata": {},
   "outputs": [],
   "source": [
    "dados = pd.read_csv('../dados/italiano_serie_a_20_21/rodadas_liga.csv')\n",
    "tabela = pd.read_csv('../dados/italiano_serie_a_20_21/tabela_liga.csv')"
   ]
  },
  {
   "cell_type": "code",
   "execution_count": 19,
   "metadata": {},
   "outputs": [
    {
     "output_type": "execute_result",
     "data": {
      "text/plain": [
       "   posicao    equipe  jogos  vitorias  empates  derrotas  gols_marcados  \\\n",
       "0        1     Inter     24        17        5         2             60   \n",
       "1        2     Milan     24        16        4         4             47   \n",
       "2        3  Juventus     23        13        7         3             45   \n",
       "3        4  Atalanta     24        13        7         4             55   \n",
       "4        5      Roma     24        13        5         6             48   \n",
       "\n",
       "   gols_sofridos  saldo_gols  pontos  ultimos_5  \n",
       "0             24          36      56  W W W W W  \n",
       "1             29          18      52  W W L L W  \n",
       "2             20          25      46  W W L W D  \n",
       "3             31          24      46  L D W W W  \n",
       "4             37          11      44  W L W D L  "
      ],
      "text/html": "<div>\n<style scoped>\n    .dataframe tbody tr th:only-of-type {\n        vertical-align: middle;\n    }\n\n    .dataframe tbody tr th {\n        vertical-align: top;\n    }\n\n    .dataframe thead th {\n        text-align: right;\n    }\n</style>\n<table border=\"1\" class=\"dataframe\">\n  <thead>\n    <tr style=\"text-align: right;\">\n      <th></th>\n      <th>posicao</th>\n      <th>equipe</th>\n      <th>jogos</th>\n      <th>vitorias</th>\n      <th>empates</th>\n      <th>derrotas</th>\n      <th>gols_marcados</th>\n      <th>gols_sofridos</th>\n      <th>saldo_gols</th>\n      <th>pontos</th>\n      <th>ultimos_5</th>\n    </tr>\n  </thead>\n  <tbody>\n    <tr>\n      <th>0</th>\n      <td>1</td>\n      <td>Inter</td>\n      <td>24</td>\n      <td>17</td>\n      <td>5</td>\n      <td>2</td>\n      <td>60</td>\n      <td>24</td>\n      <td>36</td>\n      <td>56</td>\n      <td>W W W W W</td>\n    </tr>\n    <tr>\n      <th>1</th>\n      <td>2</td>\n      <td>Milan</td>\n      <td>24</td>\n      <td>16</td>\n      <td>4</td>\n      <td>4</td>\n      <td>47</td>\n      <td>29</td>\n      <td>18</td>\n      <td>52</td>\n      <td>W W L L W</td>\n    </tr>\n    <tr>\n      <th>2</th>\n      <td>3</td>\n      <td>Juventus</td>\n      <td>23</td>\n      <td>13</td>\n      <td>7</td>\n      <td>3</td>\n      <td>45</td>\n      <td>20</td>\n      <td>25</td>\n      <td>46</td>\n      <td>W W L W D</td>\n    </tr>\n    <tr>\n      <th>3</th>\n      <td>4</td>\n      <td>Atalanta</td>\n      <td>24</td>\n      <td>13</td>\n      <td>7</td>\n      <td>4</td>\n      <td>55</td>\n      <td>31</td>\n      <td>24</td>\n      <td>46</td>\n      <td>L D W W W</td>\n    </tr>\n    <tr>\n      <th>4</th>\n      <td>5</td>\n      <td>Roma</td>\n      <td>24</td>\n      <td>13</td>\n      <td>5</td>\n      <td>6</td>\n      <td>48</td>\n      <td>37</td>\n      <td>11</td>\n      <td>44</td>\n      <td>W L W D L</td>\n    </tr>\n  </tbody>\n</table>\n</div>"
     },
     "metadata": {},
     "execution_count": 19
    }
   ],
   "source": [
    "tabela.head()"
   ]
  },
  {
   "cell_type": "code",
   "execution_count": 26,
   "metadata": {},
   "outputs": [],
   "source": [
    "dados.sort_values(['clube', 'Unnamed: 0'], ascending=False, inplace=True)"
   ]
  },
  {
   "cell_type": "code",
   "execution_count": 27,
   "metadata": {},
   "outputs": [
    {
     "output_type": "execute_result",
     "data": {
      "text/plain": [
       "     Unnamed: 0    clube        data      local resultado  gols_marcados  \\\n",
       "284          24  Udinese  2021-02-28    Em casa         V            1.0   \n",
       "283          23  Udinese  2021-02-21  Visitante         E            2.0   \n",
       "282          22  Udinese  2021-02-14  Visitante         D            0.0   \n",
       "281          21  Udinese  2021-02-07    Em casa         V            2.0   \n",
       "280          20  Udinese  2021-01-31  Visitante         V            1.0   \n",
       "\n",
       "     gols_sofridos       oponente  posse  escanteios escudo  \n",
       "284            0.0     Fiorentina   47.0         2.0    NaN  \n",
       "283            2.0          Parma   53.0         2.0    NaN  \n",
       "282            3.0           Roma   49.0         2.0    NaN  \n",
       "281            0.0  Hellas Verona   46.0         7.0    NaN  \n",
       "280            0.0         Spezia   37.0         1.0    NaN  "
      ],
      "text/html": "<div>\n<style scoped>\n    .dataframe tbody tr th:only-of-type {\n        vertical-align: middle;\n    }\n\n    .dataframe tbody tr th {\n        vertical-align: top;\n    }\n\n    .dataframe thead th {\n        text-align: right;\n    }\n</style>\n<table border=\"1\" class=\"dataframe\">\n  <thead>\n    <tr style=\"text-align: right;\">\n      <th></th>\n      <th>Unnamed: 0</th>\n      <th>clube</th>\n      <th>data</th>\n      <th>local</th>\n      <th>resultado</th>\n      <th>gols_marcados</th>\n      <th>gols_sofridos</th>\n      <th>oponente</th>\n      <th>posse</th>\n      <th>escanteios</th>\n      <th>escudo</th>\n    </tr>\n  </thead>\n  <tbody>\n    <tr>\n      <th>284</th>\n      <td>24</td>\n      <td>Udinese</td>\n      <td>2021-02-28</td>\n      <td>Em casa</td>\n      <td>V</td>\n      <td>1.0</td>\n      <td>0.0</td>\n      <td>Fiorentina</td>\n      <td>47.0</td>\n      <td>2.0</td>\n      <td>NaN</td>\n    </tr>\n    <tr>\n      <th>283</th>\n      <td>23</td>\n      <td>Udinese</td>\n      <td>2021-02-21</td>\n      <td>Visitante</td>\n      <td>E</td>\n      <td>2.0</td>\n      <td>2.0</td>\n      <td>Parma</td>\n      <td>53.0</td>\n      <td>2.0</td>\n      <td>NaN</td>\n    </tr>\n    <tr>\n      <th>282</th>\n      <td>22</td>\n      <td>Udinese</td>\n      <td>2021-02-14</td>\n      <td>Visitante</td>\n      <td>D</td>\n      <td>0.0</td>\n      <td>3.0</td>\n      <td>Roma</td>\n      <td>49.0</td>\n      <td>2.0</td>\n      <td>NaN</td>\n    </tr>\n    <tr>\n      <th>281</th>\n      <td>21</td>\n      <td>Udinese</td>\n      <td>2021-02-07</td>\n      <td>Em casa</td>\n      <td>V</td>\n      <td>2.0</td>\n      <td>0.0</td>\n      <td>Hellas Verona</td>\n      <td>46.0</td>\n      <td>7.0</td>\n      <td>NaN</td>\n    </tr>\n    <tr>\n      <th>280</th>\n      <td>20</td>\n      <td>Udinese</td>\n      <td>2021-01-31</td>\n      <td>Visitante</td>\n      <td>V</td>\n      <td>1.0</td>\n      <td>0.0</td>\n      <td>Spezia</td>\n      <td>37.0</td>\n      <td>1.0</td>\n      <td>NaN</td>\n    </tr>\n  </tbody>\n</table>\n</div>"
     },
     "metadata": {},
     "execution_count": 27
    }
   ],
   "source": [
    "dados.head()"
   ]
  },
  {
   "cell_type": "code",
   "execution_count": 28,
   "metadata": {},
   "outputs": [
    {
     "output_type": "execute_result",
     "data": {
      "text/plain": [
       "    Unnamed: 0  clube        data      local resultado  gols_marcados  \\\n",
       "23          24  Inter  2021-02-28    Em casa         V            3.0   \n",
       "22          23  Inter  2021-02-21  Visitante         V            3.0   \n",
       "21          22  Inter  2021-02-14    Em casa         V            3.0   \n",
       "20          21  Inter  2021-02-05  Visitante         V            2.0   \n",
       "19          20  Inter  2021-01-30    Em casa         V            4.0   \n",
       "18          19  Inter  2021-01-23  Visitante         E            0.0   \n",
       "17          18  Inter  2021-01-17    Em casa         V            2.0   \n",
       "16          17  Inter  2021-01-10  Visitante         E            2.0   \n",
       "15          16  Inter  2021-01-06  Visitante         D            1.0   \n",
       "14          15  Inter  2021-01-03    Em casa         V            6.0   \n",
       "13          14  Inter  2020-12-23  Visitante         V            2.0   \n",
       "12          13  Inter  2020-12-20    Em casa         V            2.0   \n",
       "11          12  Inter  2020-12-16    Em casa         V            1.0   \n",
       "10          11  Inter  2020-12-13  Visitante         V            3.0   \n",
       "9           10  Inter  2020-12-05    Em casa         V            3.0   \n",
       "8            9  Inter  2020-11-28  Visitante         V            3.0   \n",
       "7            8  Inter  2020-11-22    Em casa         V            4.0   \n",
       "6            7  Inter  2020-11-08  Visitante         E            1.0   \n",
       "5            6  Inter  2020-10-31    Em casa         E            2.0   \n",
       "4            5  Inter  2020-10-24  Visitante         V            2.0   \n",
       "3            4  Inter  2020-10-17    Em casa         D            1.0   \n",
       "2            3  Inter  2020-10-04  Visitante         E            1.0   \n",
       "1            2  Inter  2020-09-26    Em casa         V            4.0   \n",
       "0            1  Inter  2020-09-30  Visitante         V            5.0   \n",
       "\n",
       "    gols_sofridos       oponente  posse  escanteios  \\\n",
       "23            0.0          Genoa   51.0         7.0   \n",
       "22            0.0          Milan   40.0         6.0   \n",
       "21            1.0          Lazio   35.0         3.0   \n",
       "20            0.0     Fiorentina   55.0         3.0   \n",
       "19            0.0      Benevento   61.0         5.0   \n",
       "18            0.0        Udinese   61.0         1.0   \n",
       "17            0.0       Juventus   50.0         1.0   \n",
       "16            2.0           Roma   49.0         6.0   \n",
       "15            2.0      Sampdoria   63.0         7.0   \n",
       "14            2.0        Crotone   48.0         3.0   \n",
       "13            1.0  Hellas Verona   60.0         6.0   \n",
       "12            1.0         Spezia   42.0         1.0   \n",
       "11            0.0         Napoli   41.0         3.0   \n",
       "10            1.0       Cagliari   58.0         5.0   \n",
       "9             1.0        Bologna   46.0         6.0   \n",
       "8             0.0       Sassuolo   34.0         2.0   \n",
       "7             2.0         Torino   56.0         1.0   \n",
       "6             1.0       Atalanta   48.0         4.0   \n",
       "5             2.0          Parma   69.0        12.0   \n",
       "4             0.0          Genoa   61.0         8.0   \n",
       "3             2.0          Milan   55.0         3.0   \n",
       "2             1.0          Lazio   60.0         4.0   \n",
       "1             3.0     Fiorentina   66.0         3.0   \n",
       "0             2.0      Benevento   66.0         0.0   \n",
       "\n",
       "                                               escudo  \n",
       "23                                                NaN  \n",
       "22                                                NaN  \n",
       "21                                                NaN  \n",
       "20                                                NaN  \n",
       "19                                                NaN  \n",
       "18                                                NaN  \n",
       "17                                                NaN  \n",
       "16                                                NaN  \n",
       "15                                                NaN  \n",
       "14                                                NaN  \n",
       "13                                                NaN  \n",
       "12                                                NaN  \n",
       "11                                                NaN  \n",
       "10                                                NaN  \n",
       "9                                                 NaN  \n",
       "8                                                 NaN  \n",
       "7                                                 NaN  \n",
       "6                                                 NaN  \n",
       "5                                                 NaN  \n",
       "4                                                 NaN  \n",
       "3                                                 NaN  \n",
       "2                                                 NaN  \n",
       "1                                                 NaN  \n",
       "0   https://d2p3bygnnzw9w3.cloudfront.net/req/2021...  "
      ],
      "text/html": "<div>\n<style scoped>\n    .dataframe tbody tr th:only-of-type {\n        vertical-align: middle;\n    }\n\n    .dataframe tbody tr th {\n        vertical-align: top;\n    }\n\n    .dataframe thead th {\n        text-align: right;\n    }\n</style>\n<table border=\"1\" class=\"dataframe\">\n  <thead>\n    <tr style=\"text-align: right;\">\n      <th></th>\n      <th>Unnamed: 0</th>\n      <th>clube</th>\n      <th>data</th>\n      <th>local</th>\n      <th>resultado</th>\n      <th>gols_marcados</th>\n      <th>gols_sofridos</th>\n      <th>oponente</th>\n      <th>posse</th>\n      <th>escanteios</th>\n      <th>escudo</th>\n    </tr>\n  </thead>\n  <tbody>\n    <tr>\n      <th>23</th>\n      <td>24</td>\n      <td>Inter</td>\n      <td>2021-02-28</td>\n      <td>Em casa</td>\n      <td>V</td>\n      <td>3.0</td>\n      <td>0.0</td>\n      <td>Genoa</td>\n      <td>51.0</td>\n      <td>7.0</td>\n      <td>NaN</td>\n    </tr>\n    <tr>\n      <th>22</th>\n      <td>23</td>\n      <td>Inter</td>\n      <td>2021-02-21</td>\n      <td>Visitante</td>\n      <td>V</td>\n      <td>3.0</td>\n      <td>0.0</td>\n      <td>Milan</td>\n      <td>40.0</td>\n      <td>6.0</td>\n      <td>NaN</td>\n    </tr>\n    <tr>\n      <th>21</th>\n      <td>22</td>\n      <td>Inter</td>\n      <td>2021-02-14</td>\n      <td>Em casa</td>\n      <td>V</td>\n      <td>3.0</td>\n      <td>1.0</td>\n      <td>Lazio</td>\n      <td>35.0</td>\n      <td>3.0</td>\n      <td>NaN</td>\n    </tr>\n    <tr>\n      <th>20</th>\n      <td>21</td>\n      <td>Inter</td>\n      <td>2021-02-05</td>\n      <td>Visitante</td>\n      <td>V</td>\n      <td>2.0</td>\n      <td>0.0</td>\n      <td>Fiorentina</td>\n      <td>55.0</td>\n      <td>3.0</td>\n      <td>NaN</td>\n    </tr>\n    <tr>\n      <th>19</th>\n      <td>20</td>\n      <td>Inter</td>\n      <td>2021-01-30</td>\n      <td>Em casa</td>\n      <td>V</td>\n      <td>4.0</td>\n      <td>0.0</td>\n      <td>Benevento</td>\n      <td>61.0</td>\n      <td>5.0</td>\n      <td>NaN</td>\n    </tr>\n    <tr>\n      <th>18</th>\n      <td>19</td>\n      <td>Inter</td>\n      <td>2021-01-23</td>\n      <td>Visitante</td>\n      <td>E</td>\n      <td>0.0</td>\n      <td>0.0</td>\n      <td>Udinese</td>\n      <td>61.0</td>\n      <td>1.0</td>\n      <td>NaN</td>\n    </tr>\n    <tr>\n      <th>17</th>\n      <td>18</td>\n      <td>Inter</td>\n      <td>2021-01-17</td>\n      <td>Em casa</td>\n      <td>V</td>\n      <td>2.0</td>\n      <td>0.0</td>\n      <td>Juventus</td>\n      <td>50.0</td>\n      <td>1.0</td>\n      <td>NaN</td>\n    </tr>\n    <tr>\n      <th>16</th>\n      <td>17</td>\n      <td>Inter</td>\n      <td>2021-01-10</td>\n      <td>Visitante</td>\n      <td>E</td>\n      <td>2.0</td>\n      <td>2.0</td>\n      <td>Roma</td>\n      <td>49.0</td>\n      <td>6.0</td>\n      <td>NaN</td>\n    </tr>\n    <tr>\n      <th>15</th>\n      <td>16</td>\n      <td>Inter</td>\n      <td>2021-01-06</td>\n      <td>Visitante</td>\n      <td>D</td>\n      <td>1.0</td>\n      <td>2.0</td>\n      <td>Sampdoria</td>\n      <td>63.0</td>\n      <td>7.0</td>\n      <td>NaN</td>\n    </tr>\n    <tr>\n      <th>14</th>\n      <td>15</td>\n      <td>Inter</td>\n      <td>2021-01-03</td>\n      <td>Em casa</td>\n      <td>V</td>\n      <td>6.0</td>\n      <td>2.0</td>\n      <td>Crotone</td>\n      <td>48.0</td>\n      <td>3.0</td>\n      <td>NaN</td>\n    </tr>\n    <tr>\n      <th>13</th>\n      <td>14</td>\n      <td>Inter</td>\n      <td>2020-12-23</td>\n      <td>Visitante</td>\n      <td>V</td>\n      <td>2.0</td>\n      <td>1.0</td>\n      <td>Hellas Verona</td>\n      <td>60.0</td>\n      <td>6.0</td>\n      <td>NaN</td>\n    </tr>\n    <tr>\n      <th>12</th>\n      <td>13</td>\n      <td>Inter</td>\n      <td>2020-12-20</td>\n      <td>Em casa</td>\n      <td>V</td>\n      <td>2.0</td>\n      <td>1.0</td>\n      <td>Spezia</td>\n      <td>42.0</td>\n      <td>1.0</td>\n      <td>NaN</td>\n    </tr>\n    <tr>\n      <th>11</th>\n      <td>12</td>\n      <td>Inter</td>\n      <td>2020-12-16</td>\n      <td>Em casa</td>\n      <td>V</td>\n      <td>1.0</td>\n      <td>0.0</td>\n      <td>Napoli</td>\n      <td>41.0</td>\n      <td>3.0</td>\n      <td>NaN</td>\n    </tr>\n    <tr>\n      <th>10</th>\n      <td>11</td>\n      <td>Inter</td>\n      <td>2020-12-13</td>\n      <td>Visitante</td>\n      <td>V</td>\n      <td>3.0</td>\n      <td>1.0</td>\n      <td>Cagliari</td>\n      <td>58.0</td>\n      <td>5.0</td>\n      <td>NaN</td>\n    </tr>\n    <tr>\n      <th>9</th>\n      <td>10</td>\n      <td>Inter</td>\n      <td>2020-12-05</td>\n      <td>Em casa</td>\n      <td>V</td>\n      <td>3.0</td>\n      <td>1.0</td>\n      <td>Bologna</td>\n      <td>46.0</td>\n      <td>6.0</td>\n      <td>NaN</td>\n    </tr>\n    <tr>\n      <th>8</th>\n      <td>9</td>\n      <td>Inter</td>\n      <td>2020-11-28</td>\n      <td>Visitante</td>\n      <td>V</td>\n      <td>3.0</td>\n      <td>0.0</td>\n      <td>Sassuolo</td>\n      <td>34.0</td>\n      <td>2.0</td>\n      <td>NaN</td>\n    </tr>\n    <tr>\n      <th>7</th>\n      <td>8</td>\n      <td>Inter</td>\n      <td>2020-11-22</td>\n      <td>Em casa</td>\n      <td>V</td>\n      <td>4.0</td>\n      <td>2.0</td>\n      <td>Torino</td>\n      <td>56.0</td>\n      <td>1.0</td>\n      <td>NaN</td>\n    </tr>\n    <tr>\n      <th>6</th>\n      <td>7</td>\n      <td>Inter</td>\n      <td>2020-11-08</td>\n      <td>Visitante</td>\n      <td>E</td>\n      <td>1.0</td>\n      <td>1.0</td>\n      <td>Atalanta</td>\n      <td>48.0</td>\n      <td>4.0</td>\n      <td>NaN</td>\n    </tr>\n    <tr>\n      <th>5</th>\n      <td>6</td>\n      <td>Inter</td>\n      <td>2020-10-31</td>\n      <td>Em casa</td>\n      <td>E</td>\n      <td>2.0</td>\n      <td>2.0</td>\n      <td>Parma</td>\n      <td>69.0</td>\n      <td>12.0</td>\n      <td>NaN</td>\n    </tr>\n    <tr>\n      <th>4</th>\n      <td>5</td>\n      <td>Inter</td>\n      <td>2020-10-24</td>\n      <td>Visitante</td>\n      <td>V</td>\n      <td>2.0</td>\n      <td>0.0</td>\n      <td>Genoa</td>\n      <td>61.0</td>\n      <td>8.0</td>\n      <td>NaN</td>\n    </tr>\n    <tr>\n      <th>3</th>\n      <td>4</td>\n      <td>Inter</td>\n      <td>2020-10-17</td>\n      <td>Em casa</td>\n      <td>D</td>\n      <td>1.0</td>\n      <td>2.0</td>\n      <td>Milan</td>\n      <td>55.0</td>\n      <td>3.0</td>\n      <td>NaN</td>\n    </tr>\n    <tr>\n      <th>2</th>\n      <td>3</td>\n      <td>Inter</td>\n      <td>2020-10-04</td>\n      <td>Visitante</td>\n      <td>E</td>\n      <td>1.0</td>\n      <td>1.0</td>\n      <td>Lazio</td>\n      <td>60.0</td>\n      <td>4.0</td>\n      <td>NaN</td>\n    </tr>\n    <tr>\n      <th>1</th>\n      <td>2</td>\n      <td>Inter</td>\n      <td>2020-09-26</td>\n      <td>Em casa</td>\n      <td>V</td>\n      <td>4.0</td>\n      <td>3.0</td>\n      <td>Fiorentina</td>\n      <td>66.0</td>\n      <td>3.0</td>\n      <td>NaN</td>\n    </tr>\n    <tr>\n      <th>0</th>\n      <td>1</td>\n      <td>Inter</td>\n      <td>2020-09-30</td>\n      <td>Visitante</td>\n      <td>V</td>\n      <td>5.0</td>\n      <td>2.0</td>\n      <td>Benevento</td>\n      <td>66.0</td>\n      <td>0.0</td>\n      <td>https://d2p3bygnnzw9w3.cloudfront.net/req/2021...</td>\n    </tr>\n  </tbody>\n</table>\n</div>"
     },
     "metadata": {},
     "execution_count": 28
    }
   ],
   "source": [
    "dados.query('clube == \"Inter\"')"
   ]
  },
  {
   "cell_type": "code",
   "execution_count": null,
   "metadata": {},
   "outputs": [],
   "source": []
  }
 ],
 "metadata": {
  "kernelspec": {
   "name": "python3",
   "display_name": "Python 3.8.5 64-bit ('venv_foot_stats')",
   "metadata": {
    "interpreter": {
     "hash": "fe2bc7a61e0e6bddc3040081085c64a61a5e570d4bd2cc2b683b734a114eee1a"
    }
   }
  },
  "language_info": {
   "codemirror_mode": {
    "name": "ipython",
    "version": 3
   },
   "file_extension": ".py",
   "mimetype": "text/x-python",
   "name": "python",
   "nbconvert_exporter": "python",
   "pygments_lexer": "ipython3",
   "version": "3.8.5-final"
  }
 },
 "nbformat": 4,
 "nbformat_minor": 2
}