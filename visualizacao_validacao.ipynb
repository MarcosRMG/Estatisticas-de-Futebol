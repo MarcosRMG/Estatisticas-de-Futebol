{
  "nbformat": 4,
  "nbformat_minor": 0,
  "metadata": {
    "colab": {
      "name": "Estatisticas do Futebol.ipynb",
      "provenance": [],
      "collapsed_sections": [
        "b_9IY-sFUs8c",
        "Cn1gt552ORZy",
        "KM70qCti420w",
        "2gKv9XyBVngk",
        "4ZrVneB6aOw4",
        "SZrF386off3m",
        "MeYXx31GYLfd"
      ],
      "toc_visible": true,
      "authorship_tag": "ABX9TyNGUjyqituyQePXskpxA2Rx",
      "include_colab_link": true
    },
    "kernelspec": {
      "display_name": "Python 3",
      "name": "python3",
      "language": "python"
    }
  },
  "cells": [
    {
      "cell_type": "code",
      "execution_count": 21,
      "metadata": {},
      "outputs": [],
      "source": [
        "import pandas as pd"
      ]
    }
  ]
}